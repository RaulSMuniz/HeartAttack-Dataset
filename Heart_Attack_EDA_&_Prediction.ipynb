{
  "nbformat": 4,
  "nbformat_minor": 0,
  "metadata": {
    "colab": {
      "provenance": [],
      "toc_visible": true
    },
    "kernelspec": {
      "name": "python3",
      "display_name": "Python 3"
    },
    "language_info": {
      "name": "python"
    }
  },
  "cells": [
    {
      "cell_type": "markdown",
      "source": [
        "# Heart Attack Dataset (Exploratory Data Analysis and Prediction)"
      ],
      "metadata": {
        "id": "ON0PgdbNpcq8"
      }
    },
    {
      "cell_type": "markdown",
      "source": [
        "O que será utilizado:\n",
        "1. Pandas para leitura da base de dados;\n",
        "2. Matplotlib para criação de gráficos;\n",
        "3. Sklearn Linear Model para Regressão Linear Múltipla"
      ],
      "metadata": {
        "id": "4cqMeiO0pk8M"
      }
    },
    {
      "cell_type": "code",
      "execution_count": 96,
      "metadata": {
        "id": "gF2FctCqlAPP"
      },
      "outputs": [],
      "source": [
        "import pandas as pd\n",
        "import matplotlib.pyplot as plt\n",
        "from sklearn.linear_model import LinearRegression\n",
        "from sklearn.metrics import mean_squared_error, r2_score\n",
        "from sklearn.model_selection import train_test_split"
      ]
    },
    {
      "cell_type": "markdown",
      "source": [
        "# Base de dados"
      ],
      "metadata": {
        "id": "b22kmfcqp0UW"
      }
    },
    {
      "cell_type": "code",
      "source": [
        "df = pd.read_csv(\"Medicaldataset.csv\")"
      ],
      "metadata": {
        "id": "SFNQXM4pp2uv"
      },
      "execution_count": 97,
      "outputs": []
    },
    {
      "cell_type": "markdown",
      "source": [
        "# Análise Exploratória dos Dados (EDA)"
      ],
      "metadata": {
        "id": "xYof6KkFq6tb"
      }
    },
    {
      "cell_type": "code",
      "source": [
        "# Primeiras 5 linhas do Dataset\n",
        "df.head()"
      ],
      "metadata": {
        "colab": {
          "base_uri": "https://localhost:8080/",
          "height": 206
        },
        "id": "iUbo57vXrDTp",
        "outputId": "1675bddf-40a5-4bd7-a144-15fe27d57afa"
      },
      "execution_count": 98,
      "outputs": [
        {
          "output_type": "execute_result",
          "data": {
            "text/plain": [
              "   Age  Gender  Heart rate  Systolic blood pressure  Diastolic blood pressure  \\\n",
              "0   64       1          66                      160                        83   \n",
              "1   21       1          94                       98                        46   \n",
              "2   55       1          64                      160                        77   \n",
              "3   64       1          70                      120                        55   \n",
              "4   55       1          64                      112                        65   \n",
              "\n",
              "   Blood sugar  CK-MB  Troponin    Result  \n",
              "0        160.0   1.80     0.012  negative  \n",
              "1        296.0   6.75     1.060  positive  \n",
              "2        270.0   1.99     0.003  negative  \n",
              "3        270.0  13.87     0.122  positive  \n",
              "4        300.0   1.08     0.003  negative  "
            ],
            "text/html": [
              "\n",
              "  <div id=\"df-e49aad2c-57d3-48fe-bf8e-975e9e77a260\" class=\"colab-df-container\">\n",
              "    <div>\n",
              "<style scoped>\n",
              "    .dataframe tbody tr th:only-of-type {\n",
              "        vertical-align: middle;\n",
              "    }\n",
              "\n",
              "    .dataframe tbody tr th {\n",
              "        vertical-align: top;\n",
              "    }\n",
              "\n",
              "    .dataframe thead th {\n",
              "        text-align: right;\n",
              "    }\n",
              "</style>\n",
              "<table border=\"1\" class=\"dataframe\">\n",
              "  <thead>\n",
              "    <tr style=\"text-align: right;\">\n",
              "      <th></th>\n",
              "      <th>Age</th>\n",
              "      <th>Gender</th>\n",
              "      <th>Heart rate</th>\n",
              "      <th>Systolic blood pressure</th>\n",
              "      <th>Diastolic blood pressure</th>\n",
              "      <th>Blood sugar</th>\n",
              "      <th>CK-MB</th>\n",
              "      <th>Troponin</th>\n",
              "      <th>Result</th>\n",
              "    </tr>\n",
              "  </thead>\n",
              "  <tbody>\n",
              "    <tr>\n",
              "      <th>0</th>\n",
              "      <td>64</td>\n",
              "      <td>1</td>\n",
              "      <td>66</td>\n",
              "      <td>160</td>\n",
              "      <td>83</td>\n",
              "      <td>160.0</td>\n",
              "      <td>1.80</td>\n",
              "      <td>0.012</td>\n",
              "      <td>negative</td>\n",
              "    </tr>\n",
              "    <tr>\n",
              "      <th>1</th>\n",
              "      <td>21</td>\n",
              "      <td>1</td>\n",
              "      <td>94</td>\n",
              "      <td>98</td>\n",
              "      <td>46</td>\n",
              "      <td>296.0</td>\n",
              "      <td>6.75</td>\n",
              "      <td>1.060</td>\n",
              "      <td>positive</td>\n",
              "    </tr>\n",
              "    <tr>\n",
              "      <th>2</th>\n",
              "      <td>55</td>\n",
              "      <td>1</td>\n",
              "      <td>64</td>\n",
              "      <td>160</td>\n",
              "      <td>77</td>\n",
              "      <td>270.0</td>\n",
              "      <td>1.99</td>\n",
              "      <td>0.003</td>\n",
              "      <td>negative</td>\n",
              "    </tr>\n",
              "    <tr>\n",
              "      <th>3</th>\n",
              "      <td>64</td>\n",
              "      <td>1</td>\n",
              "      <td>70</td>\n",
              "      <td>120</td>\n",
              "      <td>55</td>\n",
              "      <td>270.0</td>\n",
              "      <td>13.87</td>\n",
              "      <td>0.122</td>\n",
              "      <td>positive</td>\n",
              "    </tr>\n",
              "    <tr>\n",
              "      <th>4</th>\n",
              "      <td>55</td>\n",
              "      <td>1</td>\n",
              "      <td>64</td>\n",
              "      <td>112</td>\n",
              "      <td>65</td>\n",
              "      <td>300.0</td>\n",
              "      <td>1.08</td>\n",
              "      <td>0.003</td>\n",
              "      <td>negative</td>\n",
              "    </tr>\n",
              "  </tbody>\n",
              "</table>\n",
              "</div>\n",
              "    <div class=\"colab-df-buttons\">\n",
              "\n",
              "  <div class=\"colab-df-container\">\n",
              "    <button class=\"colab-df-convert\" onclick=\"convertToInteractive('df-e49aad2c-57d3-48fe-bf8e-975e9e77a260')\"\n",
              "            title=\"Convert this dataframe to an interactive table.\"\n",
              "            style=\"display:none;\">\n",
              "\n",
              "  <svg xmlns=\"http://www.w3.org/2000/svg\" height=\"24px\" viewBox=\"0 -960 960 960\">\n",
              "    <path d=\"M120-120v-720h720v720H120Zm60-500h600v-160H180v160Zm220 220h160v-160H400v160Zm0 220h160v-160H400v160ZM180-400h160v-160H180v160Zm440 0h160v-160H620v160ZM180-180h160v-160H180v160Zm440 0h160v-160H620v160Z\"/>\n",
              "  </svg>\n",
              "    </button>\n",
              "\n",
              "  <style>\n",
              "    .colab-df-container {\n",
              "      display:flex;\n",
              "      gap: 12px;\n",
              "    }\n",
              "\n",
              "    .colab-df-convert {\n",
              "      background-color: #E8F0FE;\n",
              "      border: none;\n",
              "      border-radius: 50%;\n",
              "      cursor: pointer;\n",
              "      display: none;\n",
              "      fill: #1967D2;\n",
              "      height: 32px;\n",
              "      padding: 0 0 0 0;\n",
              "      width: 32px;\n",
              "    }\n",
              "\n",
              "    .colab-df-convert:hover {\n",
              "      background-color: #E2EBFA;\n",
              "      box-shadow: 0px 1px 2px rgba(60, 64, 67, 0.3), 0px 1px 3px 1px rgba(60, 64, 67, 0.15);\n",
              "      fill: #174EA6;\n",
              "    }\n",
              "\n",
              "    .colab-df-buttons div {\n",
              "      margin-bottom: 4px;\n",
              "    }\n",
              "\n",
              "    [theme=dark] .colab-df-convert {\n",
              "      background-color: #3B4455;\n",
              "      fill: #D2E3FC;\n",
              "    }\n",
              "\n",
              "    [theme=dark] .colab-df-convert:hover {\n",
              "      background-color: #434B5C;\n",
              "      box-shadow: 0px 1px 3px 1px rgba(0, 0, 0, 0.15);\n",
              "      filter: drop-shadow(0px 1px 2px rgba(0, 0, 0, 0.3));\n",
              "      fill: #FFFFFF;\n",
              "    }\n",
              "  </style>\n",
              "\n",
              "    <script>\n",
              "      const buttonEl =\n",
              "        document.querySelector('#df-e49aad2c-57d3-48fe-bf8e-975e9e77a260 button.colab-df-convert');\n",
              "      buttonEl.style.display =\n",
              "        google.colab.kernel.accessAllowed ? 'block' : 'none';\n",
              "\n",
              "      async function convertToInteractive(key) {\n",
              "        const element = document.querySelector('#df-e49aad2c-57d3-48fe-bf8e-975e9e77a260');\n",
              "        const dataTable =\n",
              "          await google.colab.kernel.invokeFunction('convertToInteractive',\n",
              "                                                    [key], {});\n",
              "        if (!dataTable) return;\n",
              "\n",
              "        const docLinkHtml = 'Like what you see? Visit the ' +\n",
              "          '<a target=\"_blank\" href=https://colab.research.google.com/notebooks/data_table.ipynb>data table notebook</a>'\n",
              "          + ' to learn more about interactive tables.';\n",
              "        element.innerHTML = '';\n",
              "        dataTable['output_type'] = 'display_data';\n",
              "        await google.colab.output.renderOutput(dataTable, element);\n",
              "        const docLink = document.createElement('div');\n",
              "        docLink.innerHTML = docLinkHtml;\n",
              "        element.appendChild(docLink);\n",
              "      }\n",
              "    </script>\n",
              "  </div>\n",
              "\n",
              "\n",
              "    <div id=\"df-c936d0f4-57d3-4df1-8fa4-29bab64064ef\">\n",
              "      <button class=\"colab-df-quickchart\" onclick=\"quickchart('df-c936d0f4-57d3-4df1-8fa4-29bab64064ef')\"\n",
              "                title=\"Suggest charts\"\n",
              "                style=\"display:none;\">\n",
              "\n",
              "<svg xmlns=\"http://www.w3.org/2000/svg\" height=\"24px\"viewBox=\"0 0 24 24\"\n",
              "     width=\"24px\">\n",
              "    <g>\n",
              "        <path d=\"M19 3H5c-1.1 0-2 .9-2 2v14c0 1.1.9 2 2 2h14c1.1 0 2-.9 2-2V5c0-1.1-.9-2-2-2zM9 17H7v-7h2v7zm4 0h-2V7h2v10zm4 0h-2v-4h2v4z\"/>\n",
              "    </g>\n",
              "</svg>\n",
              "      </button>\n",
              "\n",
              "<style>\n",
              "  .colab-df-quickchart {\n",
              "      --bg-color: #E8F0FE;\n",
              "      --fill-color: #1967D2;\n",
              "      --hover-bg-color: #E2EBFA;\n",
              "      --hover-fill-color: #174EA6;\n",
              "      --disabled-fill-color: #AAA;\n",
              "      --disabled-bg-color: #DDD;\n",
              "  }\n",
              "\n",
              "  [theme=dark] .colab-df-quickchart {\n",
              "      --bg-color: #3B4455;\n",
              "      --fill-color: #D2E3FC;\n",
              "      --hover-bg-color: #434B5C;\n",
              "      --hover-fill-color: #FFFFFF;\n",
              "      --disabled-bg-color: #3B4455;\n",
              "      --disabled-fill-color: #666;\n",
              "  }\n",
              "\n",
              "  .colab-df-quickchart {\n",
              "    background-color: var(--bg-color);\n",
              "    border: none;\n",
              "    border-radius: 50%;\n",
              "    cursor: pointer;\n",
              "    display: none;\n",
              "    fill: var(--fill-color);\n",
              "    height: 32px;\n",
              "    padding: 0;\n",
              "    width: 32px;\n",
              "  }\n",
              "\n",
              "  .colab-df-quickchart:hover {\n",
              "    background-color: var(--hover-bg-color);\n",
              "    box-shadow: 0 1px 2px rgba(60, 64, 67, 0.3), 0 1px 3px 1px rgba(60, 64, 67, 0.15);\n",
              "    fill: var(--button-hover-fill-color);\n",
              "  }\n",
              "\n",
              "  .colab-df-quickchart-complete:disabled,\n",
              "  .colab-df-quickchart-complete:disabled:hover {\n",
              "    background-color: var(--disabled-bg-color);\n",
              "    fill: var(--disabled-fill-color);\n",
              "    box-shadow: none;\n",
              "  }\n",
              "\n",
              "  .colab-df-spinner {\n",
              "    border: 2px solid var(--fill-color);\n",
              "    border-color: transparent;\n",
              "    border-bottom-color: var(--fill-color);\n",
              "    animation:\n",
              "      spin 1s steps(1) infinite;\n",
              "  }\n",
              "\n",
              "  @keyframes spin {\n",
              "    0% {\n",
              "      border-color: transparent;\n",
              "      border-bottom-color: var(--fill-color);\n",
              "      border-left-color: var(--fill-color);\n",
              "    }\n",
              "    20% {\n",
              "      border-color: transparent;\n",
              "      border-left-color: var(--fill-color);\n",
              "      border-top-color: var(--fill-color);\n",
              "    }\n",
              "    30% {\n",
              "      border-color: transparent;\n",
              "      border-left-color: var(--fill-color);\n",
              "      border-top-color: var(--fill-color);\n",
              "      border-right-color: var(--fill-color);\n",
              "    }\n",
              "    40% {\n",
              "      border-color: transparent;\n",
              "      border-right-color: var(--fill-color);\n",
              "      border-top-color: var(--fill-color);\n",
              "    }\n",
              "    60% {\n",
              "      border-color: transparent;\n",
              "      border-right-color: var(--fill-color);\n",
              "    }\n",
              "    80% {\n",
              "      border-color: transparent;\n",
              "      border-right-color: var(--fill-color);\n",
              "      border-bottom-color: var(--fill-color);\n",
              "    }\n",
              "    90% {\n",
              "      border-color: transparent;\n",
              "      border-bottom-color: var(--fill-color);\n",
              "    }\n",
              "  }\n",
              "</style>\n",
              "\n",
              "      <script>\n",
              "        async function quickchart(key) {\n",
              "          const quickchartButtonEl =\n",
              "            document.querySelector('#' + key + ' button');\n",
              "          quickchartButtonEl.disabled = true;  // To prevent multiple clicks.\n",
              "          quickchartButtonEl.classList.add('colab-df-spinner');\n",
              "          try {\n",
              "            const charts = await google.colab.kernel.invokeFunction(\n",
              "                'suggestCharts', [key], {});\n",
              "          } catch (error) {\n",
              "            console.error('Error during call to suggestCharts:', error);\n",
              "          }\n",
              "          quickchartButtonEl.classList.remove('colab-df-spinner');\n",
              "          quickchartButtonEl.classList.add('colab-df-quickchart-complete');\n",
              "        }\n",
              "        (() => {\n",
              "          let quickchartButtonEl =\n",
              "            document.querySelector('#df-c936d0f4-57d3-4df1-8fa4-29bab64064ef button');\n",
              "          quickchartButtonEl.style.display =\n",
              "            google.colab.kernel.accessAllowed ? 'block' : 'none';\n",
              "        })();\n",
              "      </script>\n",
              "    </div>\n",
              "\n",
              "    </div>\n",
              "  </div>\n"
            ],
            "application/vnd.google.colaboratory.intrinsic+json": {
              "type": "dataframe",
              "variable_name": "df",
              "summary": "{\n  \"name\": \"df\",\n  \"rows\": 1319,\n  \"fields\": [\n    {\n      \"column\": \"Age\",\n      \"properties\": {\n        \"dtype\": \"number\",\n        \"std\": 13,\n        \"min\": 14,\n        \"max\": 103,\n        \"num_unique_values\": 75,\n        \"samples\": [\n          32,\n          81,\n          61\n        ],\n        \"semantic_type\": \"\",\n        \"description\": \"\"\n      }\n    },\n    {\n      \"column\": \"Gender\",\n      \"properties\": {\n        \"dtype\": \"number\",\n        \"std\": 0,\n        \"min\": 0,\n        \"max\": 1,\n        \"num_unique_values\": 2,\n        \"samples\": [\n          0,\n          1\n        ],\n        \"semantic_type\": \"\",\n        \"description\": \"\"\n      }\n    },\n    {\n      \"column\": \"Heart rate\",\n      \"properties\": {\n        \"dtype\": \"number\",\n        \"std\": 51,\n        \"min\": 20,\n        \"max\": 1111,\n        \"num_unique_values\": 79,\n        \"samples\": [\n          59,\n          66\n        ],\n        \"semantic_type\": \"\",\n        \"description\": \"\"\n      }\n    },\n    {\n      \"column\": \"Systolic blood pressure\",\n      \"properties\": {\n        \"dtype\": \"number\",\n        \"std\": 26,\n        \"min\": 42,\n        \"max\": 223,\n        \"num_unique_values\": 116,\n        \"samples\": [\n          93,\n          179\n        ],\n        \"semantic_type\": \"\",\n        \"description\": \"\"\n      }\n    },\n    {\n      \"column\": \"Diastolic blood pressure\",\n      \"properties\": {\n        \"dtype\": \"number\",\n        \"std\": 14,\n        \"min\": 38,\n        \"max\": 154,\n        \"num_unique_values\": 73,\n        \"samples\": [\n          65,\n          41\n        ],\n        \"semantic_type\": \"\",\n        \"description\": \"\"\n      }\n    },\n    {\n      \"column\": \"Blood sugar\",\n      \"properties\": {\n        \"dtype\": \"number\",\n        \"std\": 74.92304465780165,\n        \"min\": 35.0,\n        \"max\": 541.0,\n        \"num_unique_values\": 244,\n        \"samples\": [\n          166.0,\n          135.0\n        ],\n        \"semantic_type\": \"\",\n        \"description\": \"\"\n      }\n    },\n    {\n      \"column\": \"CK-MB\",\n      \"properties\": {\n        \"dtype\": \"number\",\n        \"std\": 46.32708334398735,\n        \"min\": 0.321,\n        \"max\": 300.0,\n        \"num_unique_values\": 700,\n        \"samples\": [\n          286.9,\n          0.457\n        ],\n        \"semantic_type\": \"\",\n        \"description\": \"\"\n      }\n    },\n    {\n      \"column\": \"Troponin\",\n      \"properties\": {\n        \"dtype\": \"number\",\n        \"std\": 1.1545676649221834,\n        \"min\": 0.001,\n        \"max\": 10.3,\n        \"num_unique_values\": 352,\n        \"samples\": [\n          1.44,\n          0.431\n        ],\n        \"semantic_type\": \"\",\n        \"description\": \"\"\n      }\n    },\n    {\n      \"column\": \"Result\",\n      \"properties\": {\n        \"dtype\": \"category\",\n        \"num_unique_values\": 2,\n        \"samples\": [\n          \"positive\",\n          \"negative\"\n        ],\n        \"semantic_type\": \"\",\n        \"description\": \"\"\n      }\n    }\n  ]\n}"
            }
          },
          "metadata": {},
          "execution_count": 98
        }
      ]
    },
    {
      "cell_type": "code",
      "source": [
        "# Informações gerais do Dataset\n",
        "df.info()"
      ],
      "metadata": {
        "colab": {
          "base_uri": "https://localhost:8080/"
        },
        "id": "bQ3_YZwDrFUV",
        "outputId": "0d7901f6-3a7a-49a8-b5b4-b8cfdf97a10f"
      },
      "execution_count": 99,
      "outputs": [
        {
          "output_type": "stream",
          "name": "stdout",
          "text": [
            "<class 'pandas.core.frame.DataFrame'>\n",
            "RangeIndex: 1319 entries, 0 to 1318\n",
            "Data columns (total 9 columns):\n",
            " #   Column                    Non-Null Count  Dtype  \n",
            "---  ------                    --------------  -----  \n",
            " 0   Age                       1319 non-null   int64  \n",
            " 1   Gender                    1319 non-null   int64  \n",
            " 2   Heart rate                1319 non-null   int64  \n",
            " 3   Systolic blood pressure   1319 non-null   int64  \n",
            " 4   Diastolic blood pressure  1319 non-null   int64  \n",
            " 5   Blood sugar               1319 non-null   float64\n",
            " 6   CK-MB                     1319 non-null   float64\n",
            " 7   Troponin                  1319 non-null   float64\n",
            " 8   Result                    1319 non-null   object \n",
            "dtypes: float64(3), int64(5), object(1)\n",
            "memory usage: 92.9+ KB\n"
          ]
        }
      ]
    },
    {
      "cell_type": "code",
      "source": [
        "# Descrição do dataset com contagem, média, etc\n",
        "df.describe()"
      ],
      "metadata": {
        "colab": {
          "base_uri": "https://localhost:8080/",
          "height": 318
        },
        "id": "pwO1wBKnrG7-",
        "outputId": "cae816fc-739d-43ca-ebd1-2b4319eb2f59"
      },
      "execution_count": 100,
      "outputs": [
        {
          "output_type": "execute_result",
          "data": {
            "text/plain": [
              "               Age       Gender   Heart rate  Systolic blood pressure  \\\n",
              "count  1319.000000  1319.000000  1319.000000              1319.000000   \n",
              "mean     56.191812     0.659591    78.336619               127.170584   \n",
              "std      13.647315     0.474027    51.630270                26.122720   \n",
              "min      14.000000     0.000000    20.000000                42.000000   \n",
              "25%      47.000000     0.000000    64.000000               110.000000   \n",
              "50%      58.000000     1.000000    74.000000               124.000000   \n",
              "75%      65.000000     1.000000    85.000000               143.000000   \n",
              "max     103.000000     1.000000  1111.000000               223.000000   \n",
              "\n",
              "       Diastolic blood pressure  Blood sugar        CK-MB     Troponin  \n",
              "count               1319.000000  1319.000000  1319.000000  1319.000000  \n",
              "mean                  72.269143   146.634344    15.274306     0.360942  \n",
              "std                   14.033924    74.923045    46.327083     1.154568  \n",
              "min                   38.000000    35.000000     0.321000     0.001000  \n",
              "25%                   62.000000    98.000000     1.655000     0.006000  \n",
              "50%                   72.000000   116.000000     2.850000     0.014000  \n",
              "75%                   81.000000   169.500000     5.805000     0.085500  \n",
              "max                  154.000000   541.000000   300.000000    10.300000  "
            ],
            "text/html": [
              "\n",
              "  <div id=\"df-a653f12c-2e96-411a-ad09-e0d63e065680\" class=\"colab-df-container\">\n",
              "    <div>\n",
              "<style scoped>\n",
              "    .dataframe tbody tr th:only-of-type {\n",
              "        vertical-align: middle;\n",
              "    }\n",
              "\n",
              "    .dataframe tbody tr th {\n",
              "        vertical-align: top;\n",
              "    }\n",
              "\n",
              "    .dataframe thead th {\n",
              "        text-align: right;\n",
              "    }\n",
              "</style>\n",
              "<table border=\"1\" class=\"dataframe\">\n",
              "  <thead>\n",
              "    <tr style=\"text-align: right;\">\n",
              "      <th></th>\n",
              "      <th>Age</th>\n",
              "      <th>Gender</th>\n",
              "      <th>Heart rate</th>\n",
              "      <th>Systolic blood pressure</th>\n",
              "      <th>Diastolic blood pressure</th>\n",
              "      <th>Blood sugar</th>\n",
              "      <th>CK-MB</th>\n",
              "      <th>Troponin</th>\n",
              "    </tr>\n",
              "  </thead>\n",
              "  <tbody>\n",
              "    <tr>\n",
              "      <th>count</th>\n",
              "      <td>1319.000000</td>\n",
              "      <td>1319.000000</td>\n",
              "      <td>1319.000000</td>\n",
              "      <td>1319.000000</td>\n",
              "      <td>1319.000000</td>\n",
              "      <td>1319.000000</td>\n",
              "      <td>1319.000000</td>\n",
              "      <td>1319.000000</td>\n",
              "    </tr>\n",
              "    <tr>\n",
              "      <th>mean</th>\n",
              "      <td>56.191812</td>\n",
              "      <td>0.659591</td>\n",
              "      <td>78.336619</td>\n",
              "      <td>127.170584</td>\n",
              "      <td>72.269143</td>\n",
              "      <td>146.634344</td>\n",
              "      <td>15.274306</td>\n",
              "      <td>0.360942</td>\n",
              "    </tr>\n",
              "    <tr>\n",
              "      <th>std</th>\n",
              "      <td>13.647315</td>\n",
              "      <td>0.474027</td>\n",
              "      <td>51.630270</td>\n",
              "      <td>26.122720</td>\n",
              "      <td>14.033924</td>\n",
              "      <td>74.923045</td>\n",
              "      <td>46.327083</td>\n",
              "      <td>1.154568</td>\n",
              "    </tr>\n",
              "    <tr>\n",
              "      <th>min</th>\n",
              "      <td>14.000000</td>\n",
              "      <td>0.000000</td>\n",
              "      <td>20.000000</td>\n",
              "      <td>42.000000</td>\n",
              "      <td>38.000000</td>\n",
              "      <td>35.000000</td>\n",
              "      <td>0.321000</td>\n",
              "      <td>0.001000</td>\n",
              "    </tr>\n",
              "    <tr>\n",
              "      <th>25%</th>\n",
              "      <td>47.000000</td>\n",
              "      <td>0.000000</td>\n",
              "      <td>64.000000</td>\n",
              "      <td>110.000000</td>\n",
              "      <td>62.000000</td>\n",
              "      <td>98.000000</td>\n",
              "      <td>1.655000</td>\n",
              "      <td>0.006000</td>\n",
              "    </tr>\n",
              "    <tr>\n",
              "      <th>50%</th>\n",
              "      <td>58.000000</td>\n",
              "      <td>1.000000</td>\n",
              "      <td>74.000000</td>\n",
              "      <td>124.000000</td>\n",
              "      <td>72.000000</td>\n",
              "      <td>116.000000</td>\n",
              "      <td>2.850000</td>\n",
              "      <td>0.014000</td>\n",
              "    </tr>\n",
              "    <tr>\n",
              "      <th>75%</th>\n",
              "      <td>65.000000</td>\n",
              "      <td>1.000000</td>\n",
              "      <td>85.000000</td>\n",
              "      <td>143.000000</td>\n",
              "      <td>81.000000</td>\n",
              "      <td>169.500000</td>\n",
              "      <td>5.805000</td>\n",
              "      <td>0.085500</td>\n",
              "    </tr>\n",
              "    <tr>\n",
              "      <th>max</th>\n",
              "      <td>103.000000</td>\n",
              "      <td>1.000000</td>\n",
              "      <td>1111.000000</td>\n",
              "      <td>223.000000</td>\n",
              "      <td>154.000000</td>\n",
              "      <td>541.000000</td>\n",
              "      <td>300.000000</td>\n",
              "      <td>10.300000</td>\n",
              "    </tr>\n",
              "  </tbody>\n",
              "</table>\n",
              "</div>\n",
              "    <div class=\"colab-df-buttons\">\n",
              "\n",
              "  <div class=\"colab-df-container\">\n",
              "    <button class=\"colab-df-convert\" onclick=\"convertToInteractive('df-a653f12c-2e96-411a-ad09-e0d63e065680')\"\n",
              "            title=\"Convert this dataframe to an interactive table.\"\n",
              "            style=\"display:none;\">\n",
              "\n",
              "  <svg xmlns=\"http://www.w3.org/2000/svg\" height=\"24px\" viewBox=\"0 -960 960 960\">\n",
              "    <path d=\"M120-120v-720h720v720H120Zm60-500h600v-160H180v160Zm220 220h160v-160H400v160Zm0 220h160v-160H400v160ZM180-400h160v-160H180v160Zm440 0h160v-160H620v160ZM180-180h160v-160H180v160Zm440 0h160v-160H620v160Z\"/>\n",
              "  </svg>\n",
              "    </button>\n",
              "\n",
              "  <style>\n",
              "    .colab-df-container {\n",
              "      display:flex;\n",
              "      gap: 12px;\n",
              "    }\n",
              "\n",
              "    .colab-df-convert {\n",
              "      background-color: #E8F0FE;\n",
              "      border: none;\n",
              "      border-radius: 50%;\n",
              "      cursor: pointer;\n",
              "      display: none;\n",
              "      fill: #1967D2;\n",
              "      height: 32px;\n",
              "      padding: 0 0 0 0;\n",
              "      width: 32px;\n",
              "    }\n",
              "\n",
              "    .colab-df-convert:hover {\n",
              "      background-color: #E2EBFA;\n",
              "      box-shadow: 0px 1px 2px rgba(60, 64, 67, 0.3), 0px 1px 3px 1px rgba(60, 64, 67, 0.15);\n",
              "      fill: #174EA6;\n",
              "    }\n",
              "\n",
              "    .colab-df-buttons div {\n",
              "      margin-bottom: 4px;\n",
              "    }\n",
              "\n",
              "    [theme=dark] .colab-df-convert {\n",
              "      background-color: #3B4455;\n",
              "      fill: #D2E3FC;\n",
              "    }\n",
              "\n",
              "    [theme=dark] .colab-df-convert:hover {\n",
              "      background-color: #434B5C;\n",
              "      box-shadow: 0px 1px 3px 1px rgba(0, 0, 0, 0.15);\n",
              "      filter: drop-shadow(0px 1px 2px rgba(0, 0, 0, 0.3));\n",
              "      fill: #FFFFFF;\n",
              "    }\n",
              "  </style>\n",
              "\n",
              "    <script>\n",
              "      const buttonEl =\n",
              "        document.querySelector('#df-a653f12c-2e96-411a-ad09-e0d63e065680 button.colab-df-convert');\n",
              "      buttonEl.style.display =\n",
              "        google.colab.kernel.accessAllowed ? 'block' : 'none';\n",
              "\n",
              "      async function convertToInteractive(key) {\n",
              "        const element = document.querySelector('#df-a653f12c-2e96-411a-ad09-e0d63e065680');\n",
              "        const dataTable =\n",
              "          await google.colab.kernel.invokeFunction('convertToInteractive',\n",
              "                                                    [key], {});\n",
              "        if (!dataTable) return;\n",
              "\n",
              "        const docLinkHtml = 'Like what you see? Visit the ' +\n",
              "          '<a target=\"_blank\" href=https://colab.research.google.com/notebooks/data_table.ipynb>data table notebook</a>'\n",
              "          + ' to learn more about interactive tables.';\n",
              "        element.innerHTML = '';\n",
              "        dataTable['output_type'] = 'display_data';\n",
              "        await google.colab.output.renderOutput(dataTable, element);\n",
              "        const docLink = document.createElement('div');\n",
              "        docLink.innerHTML = docLinkHtml;\n",
              "        element.appendChild(docLink);\n",
              "      }\n",
              "    </script>\n",
              "  </div>\n",
              "\n",
              "\n",
              "    <div id=\"df-e756c979-d04a-4de4-bae6-adcbc265cea9\">\n",
              "      <button class=\"colab-df-quickchart\" onclick=\"quickchart('df-e756c979-d04a-4de4-bae6-adcbc265cea9')\"\n",
              "                title=\"Suggest charts\"\n",
              "                style=\"display:none;\">\n",
              "\n",
              "<svg xmlns=\"http://www.w3.org/2000/svg\" height=\"24px\"viewBox=\"0 0 24 24\"\n",
              "     width=\"24px\">\n",
              "    <g>\n",
              "        <path d=\"M19 3H5c-1.1 0-2 .9-2 2v14c0 1.1.9 2 2 2h14c1.1 0 2-.9 2-2V5c0-1.1-.9-2-2-2zM9 17H7v-7h2v7zm4 0h-2V7h2v10zm4 0h-2v-4h2v4z\"/>\n",
              "    </g>\n",
              "</svg>\n",
              "      </button>\n",
              "\n",
              "<style>\n",
              "  .colab-df-quickchart {\n",
              "      --bg-color: #E8F0FE;\n",
              "      --fill-color: #1967D2;\n",
              "      --hover-bg-color: #E2EBFA;\n",
              "      --hover-fill-color: #174EA6;\n",
              "      --disabled-fill-color: #AAA;\n",
              "      --disabled-bg-color: #DDD;\n",
              "  }\n",
              "\n",
              "  [theme=dark] .colab-df-quickchart {\n",
              "      --bg-color: #3B4455;\n",
              "      --fill-color: #D2E3FC;\n",
              "      --hover-bg-color: #434B5C;\n",
              "      --hover-fill-color: #FFFFFF;\n",
              "      --disabled-bg-color: #3B4455;\n",
              "      --disabled-fill-color: #666;\n",
              "  }\n",
              "\n",
              "  .colab-df-quickchart {\n",
              "    background-color: var(--bg-color);\n",
              "    border: none;\n",
              "    border-radius: 50%;\n",
              "    cursor: pointer;\n",
              "    display: none;\n",
              "    fill: var(--fill-color);\n",
              "    height: 32px;\n",
              "    padding: 0;\n",
              "    width: 32px;\n",
              "  }\n",
              "\n",
              "  .colab-df-quickchart:hover {\n",
              "    background-color: var(--hover-bg-color);\n",
              "    box-shadow: 0 1px 2px rgba(60, 64, 67, 0.3), 0 1px 3px 1px rgba(60, 64, 67, 0.15);\n",
              "    fill: var(--button-hover-fill-color);\n",
              "  }\n",
              "\n",
              "  .colab-df-quickchart-complete:disabled,\n",
              "  .colab-df-quickchart-complete:disabled:hover {\n",
              "    background-color: var(--disabled-bg-color);\n",
              "    fill: var(--disabled-fill-color);\n",
              "    box-shadow: none;\n",
              "  }\n",
              "\n",
              "  .colab-df-spinner {\n",
              "    border: 2px solid var(--fill-color);\n",
              "    border-color: transparent;\n",
              "    border-bottom-color: var(--fill-color);\n",
              "    animation:\n",
              "      spin 1s steps(1) infinite;\n",
              "  }\n",
              "\n",
              "  @keyframes spin {\n",
              "    0% {\n",
              "      border-color: transparent;\n",
              "      border-bottom-color: var(--fill-color);\n",
              "      border-left-color: var(--fill-color);\n",
              "    }\n",
              "    20% {\n",
              "      border-color: transparent;\n",
              "      border-left-color: var(--fill-color);\n",
              "      border-top-color: var(--fill-color);\n",
              "    }\n",
              "    30% {\n",
              "      border-color: transparent;\n",
              "      border-left-color: var(--fill-color);\n",
              "      border-top-color: var(--fill-color);\n",
              "      border-right-color: var(--fill-color);\n",
              "    }\n",
              "    40% {\n",
              "      border-color: transparent;\n",
              "      border-right-color: var(--fill-color);\n",
              "      border-top-color: var(--fill-color);\n",
              "    }\n",
              "    60% {\n",
              "      border-color: transparent;\n",
              "      border-right-color: var(--fill-color);\n",
              "    }\n",
              "    80% {\n",
              "      border-color: transparent;\n",
              "      border-right-color: var(--fill-color);\n",
              "      border-bottom-color: var(--fill-color);\n",
              "    }\n",
              "    90% {\n",
              "      border-color: transparent;\n",
              "      border-bottom-color: var(--fill-color);\n",
              "    }\n",
              "  }\n",
              "</style>\n",
              "\n",
              "      <script>\n",
              "        async function quickchart(key) {\n",
              "          const quickchartButtonEl =\n",
              "            document.querySelector('#' + key + ' button');\n",
              "          quickchartButtonEl.disabled = true;  // To prevent multiple clicks.\n",
              "          quickchartButtonEl.classList.add('colab-df-spinner');\n",
              "          try {\n",
              "            const charts = await google.colab.kernel.invokeFunction(\n",
              "                'suggestCharts', [key], {});\n",
              "          } catch (error) {\n",
              "            console.error('Error during call to suggestCharts:', error);\n",
              "          }\n",
              "          quickchartButtonEl.classList.remove('colab-df-spinner');\n",
              "          quickchartButtonEl.classList.add('colab-df-quickchart-complete');\n",
              "        }\n",
              "        (() => {\n",
              "          let quickchartButtonEl =\n",
              "            document.querySelector('#df-e756c979-d04a-4de4-bae6-adcbc265cea9 button');\n",
              "          quickchartButtonEl.style.display =\n",
              "            google.colab.kernel.accessAllowed ? 'block' : 'none';\n",
              "        })();\n",
              "      </script>\n",
              "    </div>\n",
              "\n",
              "    </div>\n",
              "  </div>\n"
            ],
            "application/vnd.google.colaboratory.intrinsic+json": {
              "type": "dataframe",
              "summary": "{\n  \"name\": \"df\",\n  \"rows\": 8,\n  \"fields\": [\n    {\n      \"column\": \"Age\",\n      \"properties\": {\n        \"dtype\": \"number\",\n        \"std\": 449.2300033413654,\n        \"min\": 13.647315476078813,\n        \"max\": 1319.0,\n        \"num_unique_values\": 8,\n        \"samples\": [\n          56.191811978771796,\n          58.0,\n          1319.0\n        ],\n        \"semantic_type\": \"\",\n        \"description\": \"\"\n      }\n    },\n    {\n      \"column\": \"Gender\",\n      \"properties\": {\n        \"dtype\": \"number\",\n        \"std\": 466.1283297620838,\n        \"min\": 0.0,\n        \"max\": 1319.0,\n        \"num_unique_values\": 5,\n        \"samples\": [\n          0.6595905989385898,\n          1.0,\n          0.4740265793910911\n        ],\n        \"semantic_type\": \"\",\n        \"description\": \"\"\n      }\n    },\n    {\n      \"column\": \"Heart rate\",\n      \"properties\": {\n        \"dtype\": \"number\",\n        \"std\": 536.9228979284177,\n        \"min\": 20.0,\n        \"max\": 1319.0,\n        \"num_unique_values\": 8,\n        \"samples\": [\n          78.3366186504928,\n          74.0,\n          1319.0\n        ],\n        \"semantic_type\": \"\",\n        \"description\": \"\"\n      }\n    },\n    {\n      \"column\": \"Systolic blood pressure\",\n      \"properties\": {\n        \"dtype\": \"number\",\n        \"std\": 430.4904564832512,\n        \"min\": 26.12272045584132,\n        \"max\": 1319.0,\n        \"num_unique_values\": 8,\n        \"samples\": [\n          127.17058377558757,\n          124.0,\n          1319.0\n        ],\n        \"semantic_type\": \"\",\n        \"description\": \"\"\n      }\n    },\n    {\n      \"column\": \"Diastolic blood pressure\",\n      \"properties\": {\n        \"dtype\": \"number\",\n        \"std\": 443.2629788707673,\n        \"min\": 14.033924163048708,\n        \"max\": 1319.0,\n        \"num_unique_values\": 8,\n        \"samples\": [\n          72.26914329037149,\n          72.0,\n          1319.0\n        ],\n        \"semantic_type\": \"\",\n        \"description\": \"\"\n      }\n    },\n    {\n      \"column\": \"Blood sugar\",\n      \"properties\": {\n        \"dtype\": \"number\",\n        \"std\": 436.1006559879591,\n        \"min\": 35.0,\n        \"max\": 1319.0,\n        \"num_unique_values\": 8,\n        \"samples\": [\n          146.63434420015165,\n          116.0,\n          1319.0\n        ],\n        \"semantic_type\": \"\",\n        \"description\": \"\"\n      }\n    },\n    {\n      \"column\": \"CK-MB\",\n      \"properties\": {\n        \"dtype\": \"number\",\n        \"std\": 458.9820711566551,\n        \"min\": 0.321,\n        \"max\": 1319.0,\n        \"num_unique_values\": 8,\n        \"samples\": [\n          15.27430553449583,\n          2.85,\n          1319.0\n        ],\n        \"semantic_type\": \"\",\n        \"description\": \"\"\n      }\n    },\n    {\n      \"column\": \"Troponin\",\n      \"properties\": {\n        \"dtype\": \"number\",\n        \"std\": 465.74815178625647,\n        \"min\": 0.001,\n        \"max\": 1319.0,\n        \"num_unique_values\": 8,\n        \"samples\": [\n          0.3609423805913571,\n          0.014,\n          1319.0\n        ],\n        \"semantic_type\": \"\",\n        \"description\": \"\"\n      }\n    }\n  ]\n}"
            }
          },
          "metadata": {},
          "execution_count": 100
        }
      ]
    },
    {
      "cell_type": "code",
      "source": [
        "# Dimensões do Dataset\n",
        "print(f\"Dimensões do Dataset: {df.shape[0]} linhas e {df.shape[1]} colunas.\") # É possível observar que é um dataset bidimensional"
      ],
      "metadata": {
        "colab": {
          "base_uri": "https://localhost:8080/"
        },
        "id": "PpksT9jLrlNf",
        "outputId": "30d64f31-b267-41f9-bd0e-cb22d330538b"
      },
      "execution_count": 101,
      "outputs": [
        {
          "output_type": "stream",
          "name": "stdout",
          "text": [
            "Dimensões do Dataset: 1319 linhas e 9 colunas.\n"
          ]
        }
      ]
    },
    {
      "cell_type": "code",
      "source": [
        "# Quantidade de elementos do Dataset\n",
        "print(f\"Quantidade de elementos do Dataset: {df.size} elementos.\")"
      ],
      "metadata": {
        "colab": {
          "base_uri": "https://localhost:8080/"
        },
        "id": "KxzCeC5Fru9l",
        "outputId": "709a4b8f-9597-43f7-f295-5c5389d1d233"
      },
      "execution_count": 102,
      "outputs": [
        {
          "output_type": "stream",
          "name": "stdout",
          "text": [
            "Quantidade de elementos do Dataset: 11871 elementos.\n"
          ]
        }
      ]
    },
    {
      "cell_type": "code",
      "source": [
        "# Verificando valores nulos\n",
        "df.isnull().sum() # É possível verificar que não há valores nulos no Dataset"
      ],
      "metadata": {
        "colab": {
          "base_uri": "https://localhost:8080/",
          "height": 366
        },
        "id": "bgIV6N_JsOlF",
        "outputId": "ef5ad4b5-82bf-419e-c973-04d187b7d8c9"
      },
      "execution_count": 103,
      "outputs": [
        {
          "output_type": "execute_result",
          "data": {
            "text/plain": [
              "Age                         0\n",
              "Gender                      0\n",
              "Heart rate                  0\n",
              "Systolic blood pressure     0\n",
              "Diastolic blood pressure    0\n",
              "Blood sugar                 0\n",
              "CK-MB                       0\n",
              "Troponin                    0\n",
              "Result                      0\n",
              "dtype: int64"
            ],
            "text/html": [
              "<div>\n",
              "<style scoped>\n",
              "    .dataframe tbody tr th:only-of-type {\n",
              "        vertical-align: middle;\n",
              "    }\n",
              "\n",
              "    .dataframe tbody tr th {\n",
              "        vertical-align: top;\n",
              "    }\n",
              "\n",
              "    .dataframe thead th {\n",
              "        text-align: right;\n",
              "    }\n",
              "</style>\n",
              "<table border=\"1\" class=\"dataframe\">\n",
              "  <thead>\n",
              "    <tr style=\"text-align: right;\">\n",
              "      <th></th>\n",
              "      <th>0</th>\n",
              "    </tr>\n",
              "  </thead>\n",
              "  <tbody>\n",
              "    <tr>\n",
              "      <th>Age</th>\n",
              "      <td>0</td>\n",
              "    </tr>\n",
              "    <tr>\n",
              "      <th>Gender</th>\n",
              "      <td>0</td>\n",
              "    </tr>\n",
              "    <tr>\n",
              "      <th>Heart rate</th>\n",
              "      <td>0</td>\n",
              "    </tr>\n",
              "    <tr>\n",
              "      <th>Systolic blood pressure</th>\n",
              "      <td>0</td>\n",
              "    </tr>\n",
              "    <tr>\n",
              "      <th>Diastolic blood pressure</th>\n",
              "      <td>0</td>\n",
              "    </tr>\n",
              "    <tr>\n",
              "      <th>Blood sugar</th>\n",
              "      <td>0</td>\n",
              "    </tr>\n",
              "    <tr>\n",
              "      <th>CK-MB</th>\n",
              "      <td>0</td>\n",
              "    </tr>\n",
              "    <tr>\n",
              "      <th>Troponin</th>\n",
              "      <td>0</td>\n",
              "    </tr>\n",
              "    <tr>\n",
              "      <th>Result</th>\n",
              "      <td>0</td>\n",
              "    </tr>\n",
              "  </tbody>\n",
              "</table>\n",
              "</div><br><label><b>dtype:</b> int64</label>"
            ]
          },
          "metadata": {},
          "execution_count": 103
        }
      ]
    },
    {
      "cell_type": "code",
      "source": [
        "# Verificando se há linhas duplicadas\n",
        "df.duplicated().sum()"
      ],
      "metadata": {
        "colab": {
          "base_uri": "https://localhost:8080/"
        },
        "id": "ul50YOCGsatF",
        "outputId": "6d626fad-3b2b-4cde-ef72-864adf3053b4"
      },
      "execution_count": 104,
      "outputs": [
        {
          "output_type": "execute_result",
          "data": {
            "text/plain": [
              "np.int64(0)"
            ]
          },
          "metadata": {},
          "execution_count": 104
        }
      ]
    },
    {
      "cell_type": "markdown",
      "source": [
        "# Distribuição de Resultados de Ataques Cardíacos Gerais"
      ],
      "metadata": {
        "id": "J0Ojt8x20vIv"
      }
    },
    {
      "cell_type": "code",
      "source": [
        "# Criando gráfico de porcentagem de resultados de ataques cardíacos\n",
        "resultados = df['Result'].value_counts().sort_index()\n",
        "label_resultados = ['No Heart Attack (0)', 'Heart Attack (1)']\n",
        "cores = ['#2ecc71', '#e74c3c']\n",
        "\n",
        "# Criando o gráfico\n",
        "plt.figure(figsize= (14, 10))\n",
        "plt.title(\"Distribuição de Ataques Cardíacos\", fontsize=16)\n",
        "plt.xlabel(\"Ataques Cardíacos\", fontsize=14)\n",
        "plt.ylabel(\"Valores\", fontsize=14)\n",
        "plt.bar(label_resultados, resultados.values, color=cores)\n"
      ],
      "metadata": {
        "colab": {
          "base_uri": "https://localhost:8080/",
          "height": 787
        },
        "id": "MO6BY-n7tF34",
        "outputId": "2763688f-c470-492f-fb74-8cee1886b0dd"
      },
      "execution_count": 105,
      "outputs": [
        {
          "output_type": "execute_result",
          "data": {
            "text/plain": [
              "<BarContainer object of 2 artists>"
            ]
          },
          "metadata": {},
          "execution_count": 105
        },
        {
          "output_type": "display_data",
          "data": {
            "text/plain": [
              "<Figure size 1400x1000 with 1 Axes>"
            ],
            "image/png": "[encoded data removed]"
          },
          "metadata": {}
        }
      ]
    },
    {
      "cell_type": "markdown",
      "source": [
        "# Distribuição de Resultados de Ataques Cardíacos por Gênero"
      ],
      "metadata": {
        "id": "D9nt8OwF01NH"
      }
    },
    {
      "cell_type": "code",
      "source": [
        "# Dataframe contendo apenas Gênero e Resultado\n",
        "gender_df = df[['Gender', 'Result']]\n",
        "\n",
        "# male_df -> Armazena apenas os resultados positivos e negativos do gênero masculino\n",
        "# female_df -> Armazena apenas os resultados positivos e negativos do gênero feminino\n",
        "male_df = gender_df.query('Gender == 1')\n",
        "female_df = gender_df.query('Gender == 0')\n",
        "\n",
        "# Quantidade de resultados por tipo (ex: x negativos, y positivos)\n",
        "male_results = male_df.value_counts().sort_index()\n",
        "female_results = female_df.value_counts().sort_index()"
      ],
      "metadata": {
        "id": "8ONyESOvwoqJ"
      },
      "execution_count": 106,
      "outputs": []
    },
    {
      "cell_type": "code",
      "source": [
        "# Criação de gráfico contendo os resultados masculinos\n",
        "plt.figure(figsize= (14, 10))\n",
        "plt.title(\"Distribuição de Ataques Cardíacos de Homens\", fontsize=16)\n",
        "plt.xlabel(\"Ataques Cardíacos\", fontsize=14)\n",
        "plt.ylabel(\"Valores\", fontsize=14)\n",
        "plt.bar(label_resultados, male_results.values, color=cores)"
      ],
      "metadata": {
        "colab": {
          "base_uri": "https://localhost:8080/",
          "height": 787
        },
        "id": "TaVasTZaz_ra",
        "outputId": "303b070e-d79b-4bb9-8bba-aeeb33f30535"
      },
      "execution_count": 107,
      "outputs": [
        {
          "output_type": "execute_result",
          "data": {
            "text/plain": [
              "<BarContainer object of 2 artists>"
            ]
          },
          "metadata": {},
          "execution_count": 107
        },
        {
          "output_type": "display_data",
          "data": {
            "text/plain": [
              "<Figure size 1400x1000 with 1 Axes>"
            ],
            "image/png": "[encoded data removed]"
          },
          "metadata": {}
        }
      ]
    },
    {
      "cell_type": "code",
      "source": [
        "# Criação do gráfico contendo resultados femininos\n",
        "plt.figure(figsize= (14, 10))\n",
        "plt.title(\"Distribuição de Ataques Cardíacos de Mulheres\", fontsize=16)\n",
        "plt.xlabel(\"Ataques Cardíacos\", fontsize=14)\n",
        "plt.ylabel(\"Valores\", fontsize=14)\n",
        "plt.bar(label_resultados, female_results.values, color=cores)"
      ],
      "metadata": {
        "colab": {
          "base_uri": "https://localhost:8080/",
          "height": 787
        },
        "id": "P-Dcmq1p0UX7",
        "outputId": "cda0d35e-6131-4bb6-c0ab-bab57c8e46d1"
      },
      "execution_count": 108,
      "outputs": [
        {
          "output_type": "execute_result",
          "data": {
            "text/plain": [
              "<BarContainer object of 2 artists>"
            ]
          },
          "metadata": {},
          "execution_count": 108
        },
        {
          "output_type": "display_data",
          "data": {
            "text/plain": [
              "<Figure size 1400x1000 with 1 Axes>"
            ],
            "image/png": "[encoded data removed]"
          },
          "metadata": {}
        }
      ]
    },
    {
      "cell_type": "markdown",
      "source": [
        "# Sumário dos resultados masculinos e femininos"
      ],
      "metadata": {
        "id": "Pnk73tq534uE"
      }
    },
    {
      "cell_type": "code",
      "source": [
        "# Armazena os testes positivos e negativos de mulheres\n",
        "female_negative = female_df.query('Result == \"negative\"')\n",
        "female_positive = female_df.query('Result == \"positive\"')\n",
        "\n",
        "# Porcentagem de mulheres com teste positivo\n",
        "female_positive_percentage = ((female_positive['Result'].count() / female_df['Result'].count()) * 100).round(2)\n",
        "female_negative_percentage = ((female_negative['Result'].count() / female_df['Result'].count()) * 100).round(2)\n",
        "\n",
        "# Armazena os testes positivos e negativos de homens\n",
        "male_negative = male_df.query('Result == \"negative\"')\n",
        "male_positive = male_df.query('Result == \"positive\"')\n",
        "\n",
        "# Porcentagem de homens\n",
        "male_positive_percentage = ((male_positive['Result'].count() / male_df['Result'].count()) * 100).round(2)\n",
        "male_negative_percentage = ((male_negative['Result'].count() / male_df['Result'].count()) * 100).round(2)\n",
        "\n",
        "# Printa a quantidade de homens, quantidade de ataques cardíacos positivos e negativos\n",
        "print(\"=============================================================================\")\n",
        "print(f\"Quantidade total de homens: {male_results.sum()}\")\n",
        "print(f\"Porcentagem de homens que tiveram ataques cardíacos: {male_positive_percentage}% ({male_positive['Result'].count()} homens)\")\n",
        "print(f\"Quantidade de homens que não tiveram ataques cardíacos: {male_negative_percentage}% ({male_negative['Result'].count()} homens)\")\n",
        "print(\"=============================================================================\")\n",
        "# Printa a quantidade de mulheres, quantidade de ataques cardíacos positivos e negativos\n",
        "print(f\"Quantidade total de mulheres: {female_results.sum()}\")\n",
        "print(f\"Porcentagem de mulheres que tiveram ataques cardíacos: {female_positive_percentage}% ({female_positive['Result'].count()} mulheres)\")\n",
        "print(f\"Quantidade de mulheres que não tiveram ataques cardíacos: {female_negative_percentage}% ({female_negative['Result'].count()} mulheres)\")\n",
        "print(\"=============================================================================\")\n",
        "print(f\"Diferença de porcentagem entre testes positivos masculinos e femininos: {(male_positive_percentage - female_positive_percentage).round(2)}%\")\n",
        "print(\"=============================================================================\")"
      ],
      "metadata": {
        "colab": {
          "base_uri": "https://localhost:8080/"
        },
        "id": "AM9_KfFx1MEP",
        "outputId": "9efa5737-e3cd-4a31-a127-80d841164874"
      },
      "execution_count": 126,
      "outputs": [
        {
          "output_type": "stream",
          "name": "stdout",
          "text": [
            "=============================================================================\n",
            "Quantidade total de homens: 870\n",
            "Porcentagem de homens que tiveram ataques cardíacos: 64.71% (563 homens)\n",
            "Quantidade de homens que não tiveram ataques cardíacos: 35.29% (307 homens)\n",
            "=============================================================================\n",
            "Quantidade total de mulheres: 449\n",
            "Porcentagem de mulheres que tiveram ataques cardíacos: 55.01% (247 mulheres)\n",
            "Quantidade de mulheres que não tiveram ataques cardíacos: 44.99% (202 mulheres)\n",
            "=============================================================================\n",
            "Diferença de porcentagem entre testes positivos masculinos e femininos: 9.7%\n",
            "=============================================================================\n"
          ]
        }
      ]
    },
    {
      "cell_type": "markdown",
      "source": [
        "# O que é possível extrair desses resultados?"
      ],
      "metadata": {
        "id": "vQxlJ9kS05tt"
      }
    },
    {
      "cell_type": "markdown",
      "source": [
        "- A quantidade de homens e mulheres examinados não é igual, entretanto, podemos ver que há uma clara diferença na quantidade de homens que tiveram ataques cardíacos e na quantidade de mulheres que tiveram ataques cardíacos.\n",
        "- Por exemplo, a porcentagem de homens que tiveram ataque cardíacos é 64.71% contra 55.01% de ataques cardíacos femininos, uma diferença de 9.7%, se aproximando a 10%.\n",
        "- Isso significa que, de forma geral, os homens estão mais propícios a ter ataques cardíacos em comparação as mulheres, mesmo levando em conta a diferença na quantidade de homens e mulheres examinados.\n"
      ],
      "metadata": {
        "id": "aJXueRVP08KB"
      }
    },
    {
      "cell_type": "markdown",
      "source": [
        "# Distribuição de Ataques Cardíacos por Idade\n",
        "\n",
        "Em andamento..."
      ],
      "metadata": {
        "id": "bPYmNz_k7Jv0"
      }
    },
    {
      "cell_type": "markdown",
      "source": [
        "# Predição com Regressão Linear Múltipla:\n",
        "\n",
        "<h1>Esta seção ainda não foi iniciada. <br>\n",
        "Quando será iniciada: ao concluir a seção de EDA.</h1>\n",
        "\n",
        "<h1>Fórmulas a serem utilizadas:</h1>\n",
        "$$\n",
        "y = \\beta_0 + \\beta_1 x_1 + \\beta_2 x_2 + \\dots + \\beta_p x_p + \\varepsilon\n",
        "$$\n",
        "\n",
        "- $(y)$ variável dependente  \n",
        "- $(x_j)$ variáveis independentes  \n",
        "- $(\\beta_j)$ coeficientes a serem estimados  \n",
        "- $(\\varepsilon)$ termo de erro"
      ],
      "metadata": {
        "id": "ia-PJriEp_eP"
      }
    }
  ]
}