{
  "nbformat": 4,
  "nbformat_minor": 0,
  "metadata": {
    "colab": {
      "provenance": [],
      "toc_visible": true
    },
    "kernelspec": {
      "name": "python3",
      "display_name": "Python 3"
    },
    "language_info": {
      "name": "python"
    }
  },
  "cells": [
    {
      "cell_type": "markdown",
      "source": [
        "# Heart Attack Dataset (Exploratory Data Analysis and Prediction)"
      ],
      "metadata": {
        "id": "ON0PgdbNpcq8"
      }
    },
    {
      "cell_type": "markdown",
      "source": [
        "O que será utilizado:\n",
        "1. Pandas para leitura da base de dados;\n",
        "2. Matplotlib para criação de gráficos;\n",
        "3. Sklearn Linear Model para Regressão Linear Múltipla"
      ],
      "metadata": {
        "id": "4cqMeiO0pk8M"
      }
    },
    {
      "cell_type": "code",
      "execution_count": 5,
      "metadata": {
        "id": "gF2FctCqlAPP"
      },
      "outputs": [],
      "source": [
        "import pandas as pd\n",
        "import matplotlib.pyplot as plt\n",
        "from sklearn.linear_model import LinearRegression\n",
        "from sklearn.metrics import mean_squared_error, r2_score\n",
        "from sklearn.model_selection import train_test_split"
      ]
    },
    {
      "cell_type": "markdown",
      "source": [
        "# Base de dados"
      ],
      "metadata": {
        "id": "b22kmfcqp0UW"
      }
    },
    {
      "cell_type": "code",
      "source": [
        "df = pd.read_csv(\"Medicaldataset.csv\")"
      ],
      "metadata": {
        "id": "SFNQXM4pp2uv"
      },
      "execution_count": 6,
      "outputs": []
    },
    {
      "cell_type": "markdown",
      "source": [
        "# Análise Exploratória dos Dados (EDA)"
      ],
      "metadata": {
        "id": "xYof6KkFq6tb"
      }
    },
    {
      "cell_type": "code",
      "source": [
        "# Primeiras 5 linhas do Dataset\n",
        "df.head()"
      ],
      "metadata": {
        "colab": {
          "base_uri": "https://localhost:8080/",
          "height": 206
        },
        "id": "iUbo57vXrDTp",
        "outputId": "172890fd-d88b-48b9-e376-617e0cf35587"
      },
      "execution_count": 7,
      "outputs": [
        {
          "output_type": "execute_result",
          "data": {
            "text/plain": [
              "   Age  Gender  Heart rate  Systolic blood pressure  Diastolic blood pressure  \\\n",
              "0   64       1          66                      160                        83   \n",
              "1   21       1          94                       98                        46   \n",
              "2   55       1          64                      160                        77   \n",
              "3   64       1          70                      120                        55   \n",
              "4   55       1          64                      112                        65   \n",
              "\n",
              "   Blood sugar  CK-MB  Troponin    Result  \n",
              "0        160.0   1.80     0.012  negative  \n",
              "1        296.0   6.75     1.060  positive  \n",
              "2        270.0   1.99     0.003  negative  \n",
              "3        270.0  13.87     0.122  positive  \n",
              "4        300.0   1.08     0.003  negative  "
            ],
            "text/html": [
              "\n",
              "  <div id=\"df-8d249e58-59a6-4004-bbe6-06fb31a37d29\" class=\"colab-df-container\">\n",
              "    <div>\n",
              "<style scoped>\n",
              "    .dataframe tbody tr th:only-of-type {\n",
              "        vertical-align: middle;\n",
              "    }\n",
              "\n",
              "    .dataframe tbody tr th {\n",
              "        vertical-align: top;\n",
              "    }\n",
              "\n",
              "    .dataframe thead th {\n",
              "        text-align: right;\n",
              "    }\n",
              "</style>\n",
              "<table border=\"1\" class=\"dataframe\">\n",
              "  <thead>\n",
              "    <tr style=\"text-align: right;\">\n",
              "      <th></th>\n",
              "      <th>Age</th>\n",
              "      <th>Gender</th>\n",
              "      <th>Heart rate</th>\n",
              "      <th>Systolic blood pressure</th>\n",
              "      <th>Diastolic blood pressure</th>\n",
              "      <th>Blood sugar</th>\n",
              "      <th>CK-MB</th>\n",
              "      <th>Troponin</th>\n",
              "      <th>Result</th>\n",
              "    </tr>\n",
              "  </thead>\n",
              "  <tbody>\n",
              "    <tr>\n",
              "      <th>0</th>\n",
              "      <td>64</td>\n",
              "      <td>1</td>\n",
              "      <td>66</td>\n",
              "      <td>160</td>\n",
              "      <td>83</td>\n",
              "      <td>160.0</td>\n",
              "      <td>1.80</td>\n",
              "      <td>0.012</td>\n",
              "      <td>negative</td>\n",
              "    </tr>\n",
              "    <tr>\n",
              "      <th>1</th>\n",
              "      <td>21</td>\n",
              "      <td>1</td>\n",
              "      <td>94</td>\n",
              "      <td>98</td>\n",
              "      <td>46</td>\n",
              "      <td>296.0</td>\n",
              "      <td>6.75</td>\n",
              "      <td>1.060</td>\n",
              "      <td>positive</td>\n",
              "    </tr>\n",
              "    <tr>\n",
              "      <th>2</th>\n",
              "      <td>55</td>\n",
              "      <td>1</td>\n",
              "      <td>64</td>\n",
              "      <td>160</td>\n",
              "      <td>77</td>\n",
              "      <td>270.0</td>\n",
              "      <td>1.99</td>\n",
              "      <td>0.003</td>\n",
              "      <td>negative</td>\n",
              "    </tr>\n",
              "    <tr>\n",
              "      <th>3</th>\n",
              "      <td>64</td>\n",
              "      <td>1</td>\n",
              "      <td>70</td>\n",
              "      <td>120</td>\n",
              "      <td>55</td>\n",
              "      <td>270.0</td>\n",
              "      <td>13.87</td>\n",
              "      <td>0.122</td>\n",
              "      <td>positive</td>\n",
              "    </tr>\n",
              "    <tr>\n",
              "      <th>4</th>\n",
              "      <td>55</td>\n",
              "      <td>1</td>\n",
              "      <td>64</td>\n",
              "      <td>112</td>\n",
              "      <td>65</td>\n",
              "      <td>300.0</td>\n",
              "      <td>1.08</td>\n",
              "      <td>0.003</td>\n",
              "      <td>negative</td>\n",
              "    </tr>\n",
              "  </tbody>\n",
              "</table>\n",
              "</div>\n",
              "    <div class=\"colab-df-buttons\">\n",
              "\n",
              "  <div class=\"colab-df-container\">\n",
              "    <button class=\"colab-df-convert\" onclick=\"convertToInteractive('df-8d249e58-59a6-4004-bbe6-06fb31a37d29')\"\n",
              "            title=\"Convert this dataframe to an interactive table.\"\n",
              "            style=\"display:none;\">\n",
              "\n",
              "  <svg xmlns=\"http://www.w3.org/2000/svg\" height=\"24px\" viewBox=\"0 -960 960 960\">\n",
              "    <path d=\"M120-120v-720h720v720H120Zm60-500h600v-160H180v160Zm220 220h160v-160H400v160Zm0 220h160v-160H400v160ZM180-400h160v-160H180v160Zm440 0h160v-160H620v160ZM180-180h160v-160H180v160Zm440 0h160v-160H620v160Z\"/>\n",
              "  </svg>\n",
              "    </button>\n",
              "\n",
              "  <style>\n",
              "    .colab-df-container {\n",
              "      display:flex;\n",
              "      gap: 12px;\n",
              "    }\n",
              "\n",
              "    .colab-df-convert {\n",
              "      background-color: #E8F0FE;\n",
              "      border: none;\n",
              "      border-radius: 50%;\n",
              "      cursor: pointer;\n",
              "      display: none;\n",
              "      fill: #1967D2;\n",
              "      height: 32px;\n",
              "      padding: 0 0 0 0;\n",
              "      width: 32px;\n",
              "    }\n",
              "\n",
              "    .colab-df-convert:hover {\n",
              "      background-color: #E2EBFA;\n",
              "      box-shadow: 0px 1px 2px rgba(60, 64, 67, 0.3), 0px 1px 3px 1px rgba(60, 64, 67, 0.15);\n",
              "      fill: #174EA6;\n",
              "    }\n",
              "\n",
              "    .colab-df-buttons div {\n",
              "      margin-bottom: 4px;\n",
              "    }\n",
              "\n",
              "    [theme=dark] .colab-df-convert {\n",
              "      background-color: #3B4455;\n",
              "      fill: #D2E3FC;\n",
              "    }\n",
              "\n",
              "    [theme=dark] .colab-df-convert:hover {\n",
              "      background-color: #434B5C;\n",
              "      box-shadow: 0px 1px 3px 1px rgba(0, 0, 0, 0.15);\n",
              "      filter: drop-shadow(0px 1px 2px rgba(0, 0, 0, 0.3));\n",
              "      fill: #FFFFFF;\n",
              "    }\n",
              "  </style>\n",
              "\n",
              "    <script>\n",
              "      const buttonEl =\n",
              "        document.querySelector('#df-8d249e58-59a6-4004-bbe6-06fb31a37d29 button.colab-df-convert');\n",
              "      buttonEl.style.display =\n",
              "        google.colab.kernel.accessAllowed ? 'block' : 'none';\n",
              "\n",
              "      async function convertToInteractive(key) {\n",
              "        const element = document.querySelector('#df-8d249e58-59a6-4004-bbe6-06fb31a37d29');\n",
              "        const dataTable =\n",
              "          await google.colab.kernel.invokeFunction('convertToInteractive',\n",
              "                                                    [key], {});\n",
              "        if (!dataTable) return;\n",
              "\n",
              "        const docLinkHtml = 'Like what you see? Visit the ' +\n",
              "          '<a target=\"_blank\" href=https://colab.research.google.com/notebooks/data_table.ipynb>data table notebook</a>'\n",
              "          + ' to learn more about interactive tables.';\n",
              "        element.innerHTML = '';\n",
              "        dataTable['output_type'] = 'display_data';\n",
              "        await google.colab.output.renderOutput(dataTable, element);\n",
              "        const docLink = document.createElement('div');\n",
              "        docLink.innerHTML = docLinkHtml;\n",
              "        element.appendChild(docLink);\n",
              "      }\n",
              "    </script>\n",
              "  </div>\n",
              "\n",
              "\n",
              "    <div id=\"df-d9260aa5-e499-4e7d-8c3e-f6823cd8473f\">\n",
              "      <button class=\"colab-df-quickchart\" onclick=\"quickchart('df-d9260aa5-e499-4e7d-8c3e-f6823cd8473f')\"\n",
              "                title=\"Suggest charts\"\n",
              "                style=\"display:none;\">\n",
              "\n",
              "<svg xmlns=\"http://www.w3.org/2000/svg\" height=\"24px\"viewBox=\"0 0 24 24\"\n",
              "     width=\"24px\">\n",
              "    <g>\n",
              "        <path d=\"M19 3H5c-1.1 0-2 .9-2 2v14c0 1.1.9 2 2 2h14c1.1 0 2-.9 2-2V5c0-1.1-.9-2-2-2zM9 17H7v-7h2v7zm4 0h-2V7h2v10zm4 0h-2v-4h2v4z\"/>\n",
              "    </g>\n",
              "</svg>\n",
              "      </button>\n",
              "\n",
              "<style>\n",
              "  .colab-df-quickchart {\n",
              "      --bg-color: #E8F0FE;\n",
              "      --fill-color: #1967D2;\n",
              "      --hover-bg-color: #E2EBFA;\n",
              "      --hover-fill-color: #174EA6;\n",
              "      --disabled-fill-color: #AAA;\n",
              "      --disabled-bg-color: #DDD;\n",
              "  }\n",
              "\n",
              "  [theme=dark] .colab-df-quickchart {\n",
              "      --bg-color: #3B4455;\n",
              "      --fill-color: #D2E3FC;\n",
              "      --hover-bg-color: #434B5C;\n",
              "      --hover-fill-color: #FFFFFF;\n",
              "      --disabled-bg-color: #3B4455;\n",
              "      --disabled-fill-color: #666;\n",
              "  }\n",
              "\n",
              "  .colab-df-quickchart {\n",
              "    background-color: var(--bg-color);\n",
              "    border: none;\n",
              "    border-radius: 50%;\n",
              "    cursor: pointer;\n",
              "    display: none;\n",
              "    fill: var(--fill-color);\n",
              "    height: 32px;\n",
              "    padding: 0;\n",
              "    width: 32px;\n",
              "  }\n",
              "\n",
              "  .colab-df-quickchart:hover {\n",
              "    background-color: var(--hover-bg-color);\n",
              "    box-shadow: 0 1px 2px rgba(60, 64, 67, 0.3), 0 1px 3px 1px rgba(60, 64, 67, 0.15);\n",
              "    fill: var(--button-hover-fill-color);\n",
              "  }\n",
              "\n",
              "  .colab-df-quickchart-complete:disabled,\n",
              "  .colab-df-quickchart-complete:disabled:hover {\n",
              "    background-color: var(--disabled-bg-color);\n",
              "    fill: var(--disabled-fill-color);\n",
              "    box-shadow: none;\n",
              "  }\n",
              "\n",
              "  .colab-df-spinner {\n",
              "    border: 2px solid var(--fill-color);\n",
              "    border-color: transparent;\n",
              "    border-bottom-color: var(--fill-color);\n",
              "    animation:\n",
              "      spin 1s steps(1) infinite;\n",
              "  }\n",
              "\n",
              "  @keyframes spin {\n",
              "    0% {\n",
              "      border-color: transparent;\n",
              "      border-bottom-color: var(--fill-color);\n",
              "      border-left-color: var(--fill-color);\n",
              "    }\n",
              "    20% {\n",
              "      border-color: transparent;\n",
              "      border-left-color: var(--fill-color);\n",
              "      border-top-color: var(--fill-color);\n",
              "    }\n",
              "    30% {\n",
              "      border-color: transparent;\n",
              "      border-left-color: var(--fill-color);\n",
              "      border-top-color: var(--fill-color);\n",
              "      border-right-color: var(--fill-color);\n",
              "    }\n",
              "    40% {\n",
              "      border-color: transparent;\n",
              "      border-right-color: var(--fill-color);\n",
              "      border-top-color: var(--fill-color);\n",
              "    }\n",
              "    60% {\n",
              "      border-color: transparent;\n",
              "      border-right-color: var(--fill-color);\n",
              "    }\n",
              "    80% {\n",
              "      border-color: transparent;\n",
              "      border-right-color: var(--fill-color);\n",
              "      border-bottom-color: var(--fill-color);\n",
              "    }\n",
              "    90% {\n",
              "      border-color: transparent;\n",
              "      border-bottom-color: var(--fill-color);\n",
              "    }\n",
              "  }\n",
              "</style>\n",
              "\n",
              "      <script>\n",
              "        async function quickchart(key) {\n",
              "          const quickchartButtonEl =\n",
              "            document.querySelector('#' + key + ' button');\n",
              "          quickchartButtonEl.disabled = true;  // To prevent multiple clicks.\n",
              "          quickchartButtonEl.classList.add('colab-df-spinner');\n",
              "          try {\n",
              "            const charts = await google.colab.kernel.invokeFunction(\n",
              "                'suggestCharts', [key], {});\n",
              "          } catch (error) {\n",
              "            console.error('Error during call to suggestCharts:', error);\n",
              "          }\n",
              "          quickchartButtonEl.classList.remove('colab-df-spinner');\n",
              "          quickchartButtonEl.classList.add('colab-df-quickchart-complete');\n",
              "        }\n",
              "        (() => {\n",
              "          let quickchartButtonEl =\n",
              "            document.querySelector('#df-d9260aa5-e499-4e7d-8c3e-f6823cd8473f button');\n",
              "          quickchartButtonEl.style.display =\n",
              "            google.colab.kernel.accessAllowed ? 'block' : 'none';\n",
              "        })();\n",
              "      </script>\n",
              "    </div>\n",
              "\n",
              "    </div>\n",
              "  </div>\n"
            ],
            "application/vnd.google.colaboratory.intrinsic+json": {
              "type": "dataframe",
              "variable_name": "df",
              "summary": "{\n  \"name\": \"df\",\n  \"rows\": 1319,\n  \"fields\": [\n    {\n      \"column\": \"Age\",\n      \"properties\": {\n        \"dtype\": \"number\",\n        \"std\": 13,\n        \"min\": 14,\n        \"max\": 103,\n        \"num_unique_values\": 75,\n        \"samples\": [\n          32,\n          81,\n          61\n        ],\n        \"semantic_type\": \"\",\n        \"description\": \"\"\n      }\n    },\n    {\n      \"column\": \"Gender\",\n      \"properties\": {\n        \"dtype\": \"number\",\n        \"std\": 0,\n        \"min\": 0,\n        \"max\": 1,\n        \"num_unique_values\": 2,\n        \"samples\": [\n          0,\n          1\n        ],\n        \"semantic_type\": \"\",\n        \"description\": \"\"\n      }\n    },\n    {\n      \"column\": \"Heart rate\",\n      \"properties\": {\n        \"dtype\": \"number\",\n        \"std\": 51,\n        \"min\": 20,\n        \"max\": 1111,\n        \"num_unique_values\": 79,\n        \"samples\": [\n          59,\n          66\n        ],\n        \"semantic_type\": \"\",\n        \"description\": \"\"\n      }\n    },\n    {\n      \"column\": \"Systolic blood pressure\",\n      \"properties\": {\n        \"dtype\": \"number\",\n        \"std\": 26,\n        \"min\": 42,\n        \"max\": 223,\n        \"num_unique_values\": 116,\n        \"samples\": [\n          93,\n          179\n        ],\n        \"semantic_type\": \"\",\n        \"description\": \"\"\n      }\n    },\n    {\n      \"column\": \"Diastolic blood pressure\",\n      \"properties\": {\n        \"dtype\": \"number\",\n        \"std\": 14,\n        \"min\": 38,\n        \"max\": 154,\n        \"num_unique_values\": 73,\n        \"samples\": [\n          65,\n          41\n        ],\n        \"semantic_type\": \"\",\n        \"description\": \"\"\n      }\n    },\n    {\n      \"column\": \"Blood sugar\",\n      \"properties\": {\n        \"dtype\": \"number\",\n        \"std\": 74.92304465780165,\n        \"min\": 35.0,\n        \"max\": 541.0,\n        \"num_unique_values\": 244,\n        \"samples\": [\n          166.0,\n          135.0\n        ],\n        \"semantic_type\": \"\",\n        \"description\": \"\"\n      }\n    },\n    {\n      \"column\": \"CK-MB\",\n      \"properties\": {\n        \"dtype\": \"number\",\n        \"std\": 46.32708334398735,\n        \"min\": 0.321,\n        \"max\": 300.0,\n        \"num_unique_values\": 700,\n        \"samples\": [\n          286.9,\n          0.457\n        ],\n        \"semantic_type\": \"\",\n        \"description\": \"\"\n      }\n    },\n    {\n      \"column\": \"Troponin\",\n      \"properties\": {\n        \"dtype\": \"number\",\n        \"std\": 1.1545676649221834,\n        \"min\": 0.001,\n        \"max\": 10.3,\n        \"num_unique_values\": 352,\n        \"samples\": [\n          1.44,\n          0.431\n        ],\n        \"semantic_type\": \"\",\n        \"description\": \"\"\n      }\n    },\n    {\n      \"column\": \"Result\",\n      \"properties\": {\n        \"dtype\": \"category\",\n        \"num_unique_values\": 2,\n        \"samples\": [\n          \"positive\",\n          \"negative\"\n        ],\n        \"semantic_type\": \"\",\n        \"description\": \"\"\n      }\n    }\n  ]\n}"
            }
          },
          "metadata": {},
          "execution_count": 7
        }
      ]
    },
    {
      "cell_type": "code",
      "source": [
        "# Informações gerais do Dataset\n",
        "df.info()"
      ],
      "metadata": {
        "colab": {
          "base_uri": "https://localhost:8080/"
        },
        "id": "bQ3_YZwDrFUV",
        "outputId": "5ce05ae7-8a80-4343-c1d0-0b6132e084db"
      },
      "execution_count": 8,
      "outputs": [
        {
          "output_type": "stream",
          "name": "stdout",
          "text": [
            "<class 'pandas.core.frame.DataFrame'>\n",
            "RangeIndex: 1319 entries, 0 to 1318\n",
            "Data columns (total 9 columns):\n",
            " #   Column                    Non-Null Count  Dtype  \n",
            "---  ------                    --------------  -----  \n",
            " 0   Age                       1319 non-null   int64  \n",
            " 1   Gender                    1319 non-null   int64  \n",
            " 2   Heart rate                1319 non-null   int64  \n",
            " 3   Systolic blood pressure   1319 non-null   int64  \n",
            " 4   Diastolic blood pressure  1319 non-null   int64  \n",
            " 5   Blood sugar               1319 non-null   float64\n",
            " 6   CK-MB                     1319 non-null   float64\n",
            " 7   Troponin                  1319 non-null   float64\n",
            " 8   Result                    1319 non-null   object \n",
            "dtypes: float64(3), int64(5), object(1)\n",
            "memory usage: 92.9+ KB\n"
          ]
        }
      ]
    },
    {
      "cell_type": "code",
      "source": [
        "# Descrição do dataset com contagem, média, etc\n",
        "df.describe()"
      ],
      "metadata": {
        "colab": {
          "base_uri": "https://localhost:8080/",
          "height": 300
        },
        "id": "pwO1wBKnrG7-",
        "outputId": "62cf13de-dd72-481d-9d9f-d59869f1e5f1"
      },
      "execution_count": 9,
      "outputs": [
        {
          "output_type": "execute_result",
          "data": {
            "text/plain": [
              "               Age       Gender   Heart rate  Systolic blood pressure  \\\n",
              "count  1319.000000  1319.000000  1319.000000              1319.000000   \n",
              "mean     56.191812     0.659591    78.336619               127.170584   \n",
              "std      13.647315     0.474027    51.630270                26.122720   \n",
              "min      14.000000     0.000000    20.000000                42.000000   \n",
              "25%      47.000000     0.000000    64.000000               110.000000   \n",
              "50%      58.000000     1.000000    74.000000               124.000000   \n",
              "75%      65.000000     1.000000    85.000000               143.000000   \n",
              "max     103.000000     1.000000  1111.000000               223.000000   \n",
              "\n",
              "       Diastolic blood pressure  Blood sugar        CK-MB     Troponin  \n",
              "count               1319.000000  1319.000000  1319.000000  1319.000000  \n",
              "mean                  72.269143   146.634344    15.274306     0.360942  \n",
              "std                   14.033924    74.923045    46.327083     1.154568  \n",
              "min                   38.000000    35.000000     0.321000     0.001000  \n",
              "25%                   62.000000    98.000000     1.655000     0.006000  \n",
              "50%                   72.000000   116.000000     2.850000     0.014000  \n",
              "75%                   81.000000   169.500000     5.805000     0.085500  \n",
              "max                  154.000000   541.000000   300.000000    10.300000  "
            ],
            "text/html": [
              "\n",
              "  <div id=\"df-35d76492-4249-4b19-9174-14bc409fb827\" class=\"colab-df-container\">\n",
              "    <div>\n",
              "<style scoped>\n",
              "    .dataframe tbody tr th:only-of-type {\n",
              "        vertical-align: middle;\n",
              "    }\n",
              "\n",
              "    .dataframe tbody tr th {\n",
              "        vertical-align: top;\n",
              "    }\n",
              "\n",
              "    .dataframe thead th {\n",
              "        text-align: right;\n",
              "    }\n",
              "</style>\n",
              "<table border=\"1\" class=\"dataframe\">\n",
              "  <thead>\n",
              "    <tr style=\"text-align: right;\">\n",
              "      <th></th>\n",
              "      <th>Age</th>\n",
              "      <th>Gender</th>\n",
              "      <th>Heart rate</th>\n",
              "      <th>Systolic blood pressure</th>\n",
              "      <th>Diastolic blood pressure</th>\n",
              "      <th>Blood sugar</th>\n",
              "      <th>CK-MB</th>\n",
              "      <th>Troponin</th>\n",
              "    </tr>\n",
              "  </thead>\n",
              "  <tbody>\n",
              "    <tr>\n",
              "      <th>count</th>\n",
              "      <td>1319.000000</td>\n",
              "      <td>1319.000000</td>\n",
              "      <td>1319.000000</td>\n",
              "      <td>1319.000000</td>\n",
              "      <td>1319.000000</td>\n",
              "      <td>1319.000000</td>\n",
              "      <td>1319.000000</td>\n",
              "      <td>1319.000000</td>\n",
              "    </tr>\n",
              "    <tr>\n",
              "      <th>mean</th>\n",
              "      <td>56.191812</td>\n",
              "      <td>0.659591</td>\n",
              "      <td>78.336619</td>\n",
              "      <td>127.170584</td>\n",
              "      <td>72.269143</td>\n",
              "      <td>146.634344</td>\n",
              "      <td>15.274306</td>\n",
              "      <td>0.360942</td>\n",
              "    </tr>\n",
              "    <tr>\n",
              "      <th>std</th>\n",
              "      <td>13.647315</td>\n",
              "      <td>0.474027</td>\n",
              "      <td>51.630270</td>\n",
              "      <td>26.122720</td>\n",
              "      <td>14.033924</td>\n",
              "      <td>74.923045</td>\n",
              "      <td>46.327083</td>\n",
              "      <td>1.154568</td>\n",
              "    </tr>\n",
              "    <tr>\n",
              "      <th>min</th>\n",
              "      <td>14.000000</td>\n",
              "      <td>0.000000</td>\n",
              "      <td>20.000000</td>\n",
              "      <td>42.000000</td>\n",
              "      <td>38.000000</td>\n",
              "      <td>35.000000</td>\n",
              "      <td>0.321000</td>\n",
              "      <td>0.001000</td>\n",
              "    </tr>\n",
              "    <tr>\n",
              "      <th>25%</th>\n",
              "      <td>47.000000</td>\n",
              "      <td>0.000000</td>\n",
              "      <td>64.000000</td>\n",
              "      <td>110.000000</td>\n",
              "      <td>62.000000</td>\n",
              "      <td>98.000000</td>\n",
              "      <td>1.655000</td>\n",
              "      <td>0.006000</td>\n",
              "    </tr>\n",
              "    <tr>\n",
              "      <th>50%</th>\n",
              "      <td>58.000000</td>\n",
              "      <td>1.000000</td>\n",
              "      <td>74.000000</td>\n",
              "      <td>124.000000</td>\n",
              "      <td>72.000000</td>\n",
              "      <td>116.000000</td>\n",
              "      <td>2.850000</td>\n",
              "      <td>0.014000</td>\n",
              "    </tr>\n",
              "    <tr>\n",
              "      <th>75%</th>\n",
              "      <td>65.000000</td>\n",
              "      <td>1.000000</td>\n",
              "      <td>85.000000</td>\n",
              "      <td>143.000000</td>\n",
              "      <td>81.000000</td>\n",
              "      <td>169.500000</td>\n",
              "      <td>5.805000</td>\n",
              "      <td>0.085500</td>\n",
              "    </tr>\n",
              "    <tr>\n",
              "      <th>max</th>\n",
              "      <td>103.000000</td>\n",
              "      <td>1.000000</td>\n",
              "      <td>1111.000000</td>\n",
              "      <td>223.000000</td>\n",
              "      <td>154.000000</td>\n",
              "      <td>541.000000</td>\n",
              "      <td>300.000000</td>\n",
              "      <td>10.300000</td>\n",
              "    </tr>\n",
              "  </tbody>\n",
              "</table>\n",
              "</div>\n",
              "    <div class=\"colab-df-buttons\">\n",
              "\n",
              "  <div class=\"colab-df-container\">\n",
              "    <button class=\"colab-df-convert\" onclick=\"convertToInteractive('df-35d76492-4249-4b19-9174-14bc409fb827')\"\n",
              "            title=\"Convert this dataframe to an interactive table.\"\n",
              "            style=\"display:none;\">\n",
              "\n",
              "  <svg xmlns=\"http://www.w3.org/2000/svg\" height=\"24px\" viewBox=\"0 -960 960 960\">\n",
              "    <path d=\"M120-120v-720h720v720H120Zm60-500h600v-160H180v160Zm220 220h160v-160H400v160Zm0 220h160v-160H400v160ZM180-400h160v-160H180v160Zm440 0h160v-160H620v160ZM180-180h160v-160H180v160Zm440 0h160v-160H620v160Z\"/>\n",
              "  </svg>\n",
              "    </button>\n",
              "\n",
              "  <style>\n",
              "    .colab-df-container {\n",
              "      display:flex;\n",
              "      gap: 12px;\n",
              "    }\n",
              "\n",
              "    .colab-df-convert {\n",
              "      background-color: #E8F0FE;\n",
              "      border: none;\n",
              "      border-radius: 50%;\n",
              "      cursor: pointer;\n",
              "      display: none;\n",
              "      fill: #1967D2;\n",
              "      height: 32px;\n",
              "      padding: 0 0 0 0;\n",
              "      width: 32px;\n",
              "    }\n",
              "\n",
              "    .colab-df-convert:hover {\n",
              "      background-color: #E2EBFA;\n",
              "      box-shadow: 0px 1px 2px rgba(60, 64, 67, 0.3), 0px 1px 3px 1px rgba(60, 64, 67, 0.15);\n",
              "      fill: #174EA6;\n",
              "    }\n",
              "\n",
              "    .colab-df-buttons div {\n",
              "      margin-bottom: 4px;\n",
              "    }\n",
              "\n",
              "    [theme=dark] .colab-df-convert {\n",
              "      background-color: #3B4455;\n",
              "      fill: #D2E3FC;\n",
              "    }\n",
              "\n",
              "    [theme=dark] .colab-df-convert:hover {\n",
              "      background-color: #434B5C;\n",
              "      box-shadow: 0px 1px 3px 1px rgba(0, 0, 0, 0.15);\n",
              "      filter: drop-shadow(0px 1px 2px rgba(0, 0, 0, 0.3));\n",
              "      fill: #FFFFFF;\n",
              "    }\n",
              "  </style>\n",
              "\n",
              "    <script>\n",
              "      const buttonEl =\n",
              "        document.querySelector('#df-35d76492-4249-4b19-9174-14bc409fb827 button.colab-df-convert');\n",
              "      buttonEl.style.display =\n",
              "        google.colab.kernel.accessAllowed ? 'block' : 'none';\n",
              "\n",
              "      async function convertToInteractive(key) {\n",
              "        const element = document.querySelector('#df-35d76492-4249-4b19-9174-14bc409fb827');\n",
              "        const dataTable =\n",
              "          await google.colab.kernel.invokeFunction('convertToInteractive',\n",
              "                                                    [key], {});\n",
              "        if (!dataTable) return;\n",
              "\n",
              "        const docLinkHtml = 'Like what you see? Visit the ' +\n",
              "          '<a target=\"_blank\" href=https://colab.research.google.com/notebooks/data_table.ipynb>data table notebook</a>'\n",
              "          + ' to learn more about interactive tables.';\n",
              "        element.innerHTML = '';\n",
              "        dataTable['output_type'] = 'display_data';\n",
              "        await google.colab.output.renderOutput(dataTable, element);\n",
              "        const docLink = document.createElement('div');\n",
              "        docLink.innerHTML = docLinkHtml;\n",
              "        element.appendChild(docLink);\n",
              "      }\n",
              "    </script>\n",
              "  </div>\n",
              "\n",
              "\n",
              "    <div id=\"df-23f2c930-2977-4db9-aa5b-f858fd38da8f\">\n",
              "      <button class=\"colab-df-quickchart\" onclick=\"quickchart('df-23f2c930-2977-4db9-aa5b-f858fd38da8f')\"\n",
              "                title=\"Suggest charts\"\n",
              "                style=\"display:none;\">\n",
              "\n",
              "<svg xmlns=\"http://www.w3.org/2000/svg\" height=\"24px\"viewBox=\"0 0 24 24\"\n",
              "     width=\"24px\">\n",
              "    <g>\n",
              "        <path d=\"M19 3H5c-1.1 0-2 .9-2 2v14c0 1.1.9 2 2 2h14c1.1 0 2-.9 2-2V5c0-1.1-.9-2-2-2zM9 17H7v-7h2v7zm4 0h-2V7h2v10zm4 0h-2v-4h2v4z\"/>\n",
              "    </g>\n",
              "</svg>\n",
              "      </button>\n",
              "\n",
              "<style>\n",
              "  .colab-df-quickchart {\n",
              "      --bg-color: #E8F0FE;\n",
              "      --fill-color: #1967D2;\n",
              "      --hover-bg-color: #E2EBFA;\n",
              "      --hover-fill-color: #174EA6;\n",
              "      --disabled-fill-color: #AAA;\n",
              "      --disabled-bg-color: #DDD;\n",
              "  }\n",
              "\n",
              "  [theme=dark] .colab-df-quickchart {\n",
              "      --bg-color: #3B4455;\n",
              "      --fill-color: #D2E3FC;\n",
              "      --hover-bg-color: #434B5C;\n",
              "      --hover-fill-color: #FFFFFF;\n",
              "      --disabled-bg-color: #3B4455;\n",
              "      --disabled-fill-color: #666;\n",
              "  }\n",
              "\n",
              "  .colab-df-quickchart {\n",
              "    background-color: var(--bg-color);\n",
              "    border: none;\n",
              "    border-radius: 50%;\n",
              "    cursor: pointer;\n",
              "    display: none;\n",
              "    fill: var(--fill-color);\n",
              "    height: 32px;\n",
              "    padding: 0;\n",
              "    width: 32px;\n",
              "  }\n",
              "\n",
              "  .colab-df-quickchart:hover {\n",
              "    background-color: var(--hover-bg-color);\n",
              "    box-shadow: 0 1px 2px rgba(60, 64, 67, 0.3), 0 1px 3px 1px rgba(60, 64, 67, 0.15);\n",
              "    fill: var(--button-hover-fill-color);\n",
              "  }\n",
              "\n",
              "  .colab-df-quickchart-complete:disabled,\n",
              "  .colab-df-quickchart-complete:disabled:hover {\n",
              "    background-color: var(--disabled-bg-color);\n",
              "    fill: var(--disabled-fill-color);\n",
              "    box-shadow: none;\n",
              "  }\n",
              "\n",
              "  .colab-df-spinner {\n",
              "    border: 2px solid var(--fill-color);\n",
              "    border-color: transparent;\n",
              "    border-bottom-color: var(--fill-color);\n",
              "    animation:\n",
              "      spin 1s steps(1) infinite;\n",
              "  }\n",
              "\n",
              "  @keyframes spin {\n",
              "    0% {\n",
              "      border-color: transparent;\n",
              "      border-bottom-color: var(--fill-color);\n",
              "      border-left-color: var(--fill-color);\n",
              "    }\n",
              "    20% {\n",
              "      border-color: transparent;\n",
              "      border-left-color: var(--fill-color);\n",
              "      border-top-color: var(--fill-color);\n",
              "    }\n",
              "    30% {\n",
              "      border-color: transparent;\n",
              "      border-left-color: var(--fill-color);\n",
              "      border-top-color: var(--fill-color);\n",
              "      border-right-color: var(--fill-color);\n",
              "    }\n",
              "    40% {\n",
              "      border-color: transparent;\n",
              "      border-right-color: var(--fill-color);\n",
              "      border-top-color: var(--fill-color);\n",
              "    }\n",
              "    60% {\n",
              "      border-color: transparent;\n",
              "      border-right-color: var(--fill-color);\n",
              "    }\n",
              "    80% {\n",
              "      border-color: transparent;\n",
              "      border-right-color: var(--fill-color);\n",
              "      border-bottom-color: var(--fill-color);\n",
              "    }\n",
              "    90% {\n",
              "      border-color: transparent;\n",
              "      border-bottom-color: var(--fill-color);\n",
              "    }\n",
              "  }\n",
              "</style>\n",
              "\n",
              "      <script>\n",
              "        async function quickchart(key) {\n",
              "          const quickchartButtonEl =\n",
              "            document.querySelector('#' + key + ' button');\n",
              "          quickchartButtonEl.disabled = true;  // To prevent multiple clicks.\n",
              "          quickchartButtonEl.classList.add('colab-df-spinner');\n",
              "          try {\n",
              "            const charts = await google.colab.kernel.invokeFunction(\n",
              "                'suggestCharts', [key], {});\n",
              "          } catch (error) {\n",
              "            console.error('Error during call to suggestCharts:', error);\n",
              "          }\n",
              "          quickchartButtonEl.classList.remove('colab-df-spinner');\n",
              "          quickchartButtonEl.classList.add('colab-df-quickchart-complete');\n",
              "        }\n",
              "        (() => {\n",
              "          let quickchartButtonEl =\n",
              "            document.querySelector('#df-23f2c930-2977-4db9-aa5b-f858fd38da8f button');\n",
              "          quickchartButtonEl.style.display =\n",
              "            google.colab.kernel.accessAllowed ? 'block' : 'none';\n",
              "        })();\n",
              "      </script>\n",
              "    </div>\n",
              "\n",
              "    </div>\n",
              "  </div>\n"
            ],
            "application/vnd.google.colaboratory.intrinsic+json": {
              "type": "dataframe",
              "summary": "{\n  \"name\": \"df\",\n  \"rows\": 8,\n  \"fields\": [\n    {\n      \"column\": \"Age\",\n      \"properties\": {\n        \"dtype\": \"number\",\n        \"std\": 449.2300033413654,\n        \"min\": 13.647315476078813,\n        \"max\": 1319.0,\n        \"num_unique_values\": 8,\n        \"samples\": [\n          56.191811978771796,\n          58.0,\n          1319.0\n        ],\n        \"semantic_type\": \"\",\n        \"description\": \"\"\n      }\n    },\n    {\n      \"column\": \"Gender\",\n      \"properties\": {\n        \"dtype\": \"number\",\n        \"std\": 466.1283297620838,\n        \"min\": 0.0,\n        \"max\": 1319.0,\n        \"num_unique_values\": 5,\n        \"samples\": [\n          0.6595905989385898,\n          1.0,\n          0.4740265793910911\n        ],\n        \"semantic_type\": \"\",\n        \"description\": \"\"\n      }\n    },\n    {\n      \"column\": \"Heart rate\",\n      \"properties\": {\n        \"dtype\": \"number\",\n        \"std\": 536.9228979284177,\n        \"min\": 20.0,\n        \"max\": 1319.0,\n        \"num_unique_values\": 8,\n        \"samples\": [\n          78.3366186504928,\n          74.0,\n          1319.0\n        ],\n        \"semantic_type\": \"\",\n        \"description\": \"\"\n      }\n    },\n    {\n      \"column\": \"Systolic blood pressure\",\n      \"properties\": {\n        \"dtype\": \"number\",\n        \"std\": 430.4904564832512,\n        \"min\": 26.12272045584132,\n        \"max\": 1319.0,\n        \"num_unique_values\": 8,\n        \"samples\": [\n          127.17058377558757,\n          124.0,\n          1319.0\n        ],\n        \"semantic_type\": \"\",\n        \"description\": \"\"\n      }\n    },\n    {\n      \"column\": \"Diastolic blood pressure\",\n      \"properties\": {\n        \"dtype\": \"number\",\n        \"std\": 443.2629788707673,\n        \"min\": 14.033924163048708,\n        \"max\": 1319.0,\n        \"num_unique_values\": 8,\n        \"samples\": [\n          72.26914329037149,\n          72.0,\n          1319.0\n        ],\n        \"semantic_type\": \"\",\n        \"description\": \"\"\n      }\n    },\n    {\n      \"column\": \"Blood sugar\",\n      \"properties\": {\n        \"dtype\": \"number\",\n        \"std\": 436.1006559879591,\n        \"min\": 35.0,\n        \"max\": 1319.0,\n        \"num_unique_values\": 8,\n        \"samples\": [\n          146.63434420015165,\n          116.0,\n          1319.0\n        ],\n        \"semantic_type\": \"\",\n        \"description\": \"\"\n      }\n    },\n    {\n      \"column\": \"CK-MB\",\n      \"properties\": {\n        \"dtype\": \"number\",\n        \"std\": 458.9820711566551,\n        \"min\": 0.321,\n        \"max\": 1319.0,\n        \"num_unique_values\": 8,\n        \"samples\": [\n          15.27430553449583,\n          2.85,\n          1319.0\n        ],\n        \"semantic_type\": \"\",\n        \"description\": \"\"\n      }\n    },\n    {\n      \"column\": \"Troponin\",\n      \"properties\": {\n        \"dtype\": \"number\",\n        \"std\": 465.74815178625647,\n        \"min\": 0.001,\n        \"max\": 1319.0,\n        \"num_unique_values\": 8,\n        \"samples\": [\n          0.3609423805913571,\n          0.014,\n          1319.0\n        ],\n        \"semantic_type\": \"\",\n        \"description\": \"\"\n      }\n    }\n  ]\n}"
            }
          },
          "metadata": {},
          "execution_count": 9
        }
      ]
    },
    {
      "cell_type": "code",
      "source": [
        "# Dimensões do Dataset\n",
        "print(f\"Dimensões do Dataset: {df.shape[0]} linhas e {df.shape[1]} colunas.\") # É possível observar que é um dataset bidimensional"
      ],
      "metadata": {
        "colab": {
          "base_uri": "https://localhost:8080/"
        },
        "id": "PpksT9jLrlNf",
        "outputId": "e52dff3f-f6a3-4ed7-8966-cf99e50e951e"
      },
      "execution_count": 10,
      "outputs": [
        {
          "output_type": "stream",
          "name": "stdout",
          "text": [
            "Dimensões do Dataset: 1319 linhas e 9 colunas.\n"
          ]
        }
      ]
    },
    {
      "cell_type": "code",
      "source": [
        "# Quantidade de elementos do Dataset\n",
        "print(f\"Quantidade de elementos do Dataset: {df.size} elementos.\")"
      ],
      "metadata": {
        "colab": {
          "base_uri": "https://localhost:8080/"
        },
        "id": "KxzCeC5Fru9l",
        "outputId": "73fc3a8a-c4ee-47b2-ba59-0cc74276e610"
      },
      "execution_count": 11,
      "outputs": [
        {
          "output_type": "stream",
          "name": "stdout",
          "text": [
            "Quantidade de elementos do Dataset: 11871 elementos.\n"
          ]
        }
      ]
    },
    {
      "cell_type": "code",
      "source": [
        "# Verificando valores nulos\n",
        "df.isnull().sum() # É possível verificar que não há valores nulos no Dataset"
      ],
      "metadata": {
        "colab": {
          "base_uri": "https://localhost:8080/",
          "height": 366
        },
        "id": "bgIV6N_JsOlF",
        "outputId": "93765189-af55-4a56-c24f-6ec27e99d2d1"
      },
      "execution_count": 12,
      "outputs": [
        {
          "output_type": "execute_result",
          "data": {
            "text/plain": [
              "Age                         0\n",
              "Gender                      0\n",
              "Heart rate                  0\n",
              "Systolic blood pressure     0\n",
              "Diastolic blood pressure    0\n",
              "Blood sugar                 0\n",
              "CK-MB                       0\n",
              "Troponin                    0\n",
              "Result                      0\n",
              "dtype: int64"
            ],
            "text/html": [
              "<div>\n",
              "<style scoped>\n",
              "    .dataframe tbody tr th:only-of-type {\n",
              "        vertical-align: middle;\n",
              "    }\n",
              "\n",
              "    .dataframe tbody tr th {\n",
              "        vertical-align: top;\n",
              "    }\n",
              "\n",
              "    .dataframe thead th {\n",
              "        text-align: right;\n",
              "    }\n",
              "</style>\n",
              "<table border=\"1\" class=\"dataframe\">\n",
              "  <thead>\n",
              "    <tr style=\"text-align: right;\">\n",
              "      <th></th>\n",
              "      <th>0</th>\n",
              "    </tr>\n",
              "  </thead>\n",
              "  <tbody>\n",
              "    <tr>\n",
              "      <th>Age</th>\n",
              "      <td>0</td>\n",
              "    </tr>\n",
              "    <tr>\n",
              "      <th>Gender</th>\n",
              "      <td>0</td>\n",
              "    </tr>\n",
              "    <tr>\n",
              "      <th>Heart rate</th>\n",
              "      <td>0</td>\n",
              "    </tr>\n",
              "    <tr>\n",
              "      <th>Systolic blood pressure</th>\n",
              "      <td>0</td>\n",
              "    </tr>\n",
              "    <tr>\n",
              "      <th>Diastolic blood pressure</th>\n",
              "      <td>0</td>\n",
              "    </tr>\n",
              "    <tr>\n",
              "      <th>Blood sugar</th>\n",
              "      <td>0</td>\n",
              "    </tr>\n",
              "    <tr>\n",
              "      <th>CK-MB</th>\n",
              "      <td>0</td>\n",
              "    </tr>\n",
              "    <tr>\n",
              "      <th>Troponin</th>\n",
              "      <td>0</td>\n",
              "    </tr>\n",
              "    <tr>\n",
              "      <th>Result</th>\n",
              "      <td>0</td>\n",
              "    </tr>\n",
              "  </tbody>\n",
              "</table>\n",
              "</div><br><label><b>dtype:</b> int64</label>"
            ]
          },
          "metadata": {},
          "execution_count": 12
        }
      ]
    },
    {
      "cell_type": "code",
      "source": [
        "# Verificando se há linhas duplicadas\n",
        "df.duplicated().sum()"
      ],
      "metadata": {
        "colab": {
          "base_uri": "https://localhost:8080/"
        },
        "id": "ul50YOCGsatF",
        "outputId": "1528cf89-3495-4232-baf2-76613c348ba1"
      },
      "execution_count": 13,
      "outputs": [
        {
          "output_type": "execute_result",
          "data": {
            "text/plain": [
              "np.int64(0)"
            ]
          },
          "metadata": {},
          "execution_count": 13
        }
      ]
    },
    {
      "cell_type": "markdown",
      "source": [
        "# Distribuição de Resultados de Ataques Cardíacos Gerais"
      ],
      "metadata": {
        "id": "J0Ojt8x20vIv"
      }
    },
    {
      "cell_type": "code",
      "source": [
        "# Criando gráfico de porcentagem de resultados de ataques cardíacos\n",
        "resultados = df['Result'].value_counts().sort_index()\n",
        "label_resultados = ['Não teve Ataque Cardíaco', 'Teve Ataque Cardíaco']\n",
        "cores = ['#2ecc71', '#e74c3c']\n",
        "\n",
        "# Criando o gráfico\n",
        "plt.figure(figsize= (10, 6))\n",
        "plt.title(\"Distribuição de Ataques Cardíacos\", fontsize=16)\n",
        "plt.xlabel(\"Ataques Cardíacos\", fontsize=14)\n",
        "plt.ylabel(\"Valores\", fontsize=14)\n",
        "plt.bar(label_resultados, resultados.values, color=cores)\n"
      ],
      "metadata": {
        "colab": {
          "base_uri": "https://localhost:8080/",
          "height": 591
        },
        "id": "MO6BY-n7tF34",
        "outputId": "02ae7770-d427-4533-e957-397523eacb35"
      },
      "execution_count": 14,
      "outputs": [
        {
          "output_type": "execute_result",
          "data": {
            "text/plain": [
              "<BarContainer object of 2 artists>"
            ]
          },
          "metadata": {},
          "execution_count": 14
        },
        {
          "output_type": "display_data",
          "data": {
            "text/plain": [
              "<Figure size 1000x600 with 1 Axes>"
            ],
            "image/png": "[encoded data removed]"
          },
          "metadata": {}
        }
      ]
    },
    {
      "cell_type": "markdown",
      "source": [
        "# Seção 1: Distribuição de Resultados de Ataques Cardíacos por Gênero"
      ],
      "metadata": {
        "id": "D9nt8OwF01NH"
      }
    },
    {
      "cell_type": "code",
      "source": [
        "# Dataframe contendo apenas Gênero e Resultado\n",
        "gender_df = df[['Gender', 'Result']]\n",
        "\n",
        "# male_df -> Armazena apenas os resultados positivos e negativos do gênero masculino\n",
        "# female_df -> Armazena apenas os resultados positivos e negativos do gênero feminino\n",
        "male_df = gender_df.query('Gender == 1')\n",
        "female_df = gender_df.query('Gender == 0')\n",
        "\n",
        "# Quantidade de resultados por tipo (ex: x negativos, y positivos)\n",
        "male_results = male_df.value_counts().sort_index()\n",
        "female_results = female_df.value_counts().sort_index()"
      ],
      "metadata": {
        "id": "8ONyESOvwoqJ"
      },
      "execution_count": 15,
      "outputs": []
    },
    {
      "cell_type": "code",
      "source": [
        "# Criação de gráfico contendo os resultados masculinos\n",
        "plt.figure(figsize= (10, 6))\n",
        "plt.title(\"Distribuição de Ataques Cardíacos de Homens\", fontsize=16)\n",
        "plt.xlabel(\"Ataques Cardíacos\", fontsize=14)\n",
        "plt.ylabel(\"Valores\", fontsize=14)\n",
        "plt.bar(label_resultados, male_results.values, color=cores)"
      ],
      "metadata": {
        "colab": {
          "base_uri": "https://localhost:8080/",
          "height": 591
        },
        "id": "TaVasTZaz_ra",
        "outputId": "4f4a367d-bec7-4cd8-a26a-47666aabefdc"
      },
      "execution_count": 16,
      "outputs": [
        {
          "output_type": "execute_result",
          "data": {
            "text/plain": [
              "<BarContainer object of 2 artists>"
            ]
          },
          "metadata": {},
          "execution_count": 16
        },
        {
          "output_type": "display_data",
          "data": {
            "text/plain": [
              "<Figure size 1000x600 with 1 Axes>"
            ],
            "image/png": "[encoded data removed]"
          },
          "metadata": {}
        }
      ]
    },
    {
      "cell_type": "code",
      "source": [
        "# Criação do gráfico contendo resultados femininos\n",
        "plt.figure(figsize= (10, 6))\n",
        "plt.title(\"Distribuição de Ataques Cardíacos de Mulheres\", fontsize=16)\n",
        "plt.xlabel(\"Ataques Cardíacos\", fontsize=14)\n",
        "plt.ylabel(\"Valores\", fontsize=14)\n",
        "plt.bar(label_resultados, female_results.values, color=cores)"
      ],
      "metadata": {
        "colab": {
          "base_uri": "https://localhost:8080/",
          "height": 591
        },
        "id": "P-Dcmq1p0UX7",
        "outputId": "e46f4f56-2a66-4089-83e0-b60982377de5"
      },
      "execution_count": 17,
      "outputs": [
        {
          "output_type": "execute_result",
          "data": {
            "text/plain": [
              "<BarContainer object of 2 artists>"
            ]
          },
          "metadata": {},
          "execution_count": 17
        },
        {
          "output_type": "display_data",
          "data": {
            "text/plain": [
              "<Figure size 1000x600 with 1 Axes>"
            ],
            "image/png": "[encoded data removed]"
          },
          "metadata": {}
        }
      ]
    },
    {
      "cell_type": "code",
      "source": [
        "# Criação do gráfico contendo resultados femininos\n",
        "plt.figure(figsize= (10, 6))\n",
        "plt.title(\"Distribuição de Ataques Cardíacos de Mulheres\", fontsize=16)\n",
        "plt.xlabel(\"Ataques Cardíacos\", fontsize=14)\n",
        "plt.ylabel(\"Valores\", fontsize=14)\n",
        "plt.bar(label_resultados, female_results.values, color=cores)"
      ],
      "metadata": {
        "colab": {
          "base_uri": "https://localhost:8080/",
          "height": 591
        },
        "id": "Yt6gn4mcImIA",
        "outputId": "d4898d17-7792-4205-ec42-56e87dec1962"
      },
      "execution_count": 18,
      "outputs": [
        {
          "output_type": "execute_result",
          "data": {
            "text/plain": [
              "<BarContainer object of 2 artists>"
            ]
          },
          "metadata": {},
          "execution_count": 18
        },
        {
          "output_type": "display_data",
          "data": {
            "text/plain": [
              "<Figure size 1000x600 with 1 Axes>"
            ],
            "image/png": "[encoded data removed]"
          },
          "metadata": {}
        }
      ]
    },
    {
      "cell_type": "markdown",
      "source": [
        "# 1.1. Sumário dos resultados masculinos e femininos"
      ],
      "metadata": {
        "id": "Pnk73tq534uE"
      }
    },
    {
      "cell_type": "code",
      "source": [
        "# Porcentagem de mulheres\n",
        "female_positive_percentage = (female_results.iloc[1] / female_results.sum() * 100).round(2)\n",
        "female_negative_percentage = (female_results.iloc[0] / female_results.sum() * 100).round(2)\n",
        "\n",
        "# Porcentagem de homens\n",
        "male_positive_percentage = (male_results.iloc[1] / male_results.sum() * 100).round(2)\n",
        "male_negative_percentage = (male_results.iloc[0] / male_results.sum() * 100).round(2)"
      ],
      "metadata": {
        "id": "xuS55vR_ZlPR"
      },
      "execution_count": 19,
      "outputs": []
    },
    {
      "cell_type": "code",
      "source": [
        "# Printa a quantidade de homens, quantidade de ataques cardíacos positivos e negativos\n",
        "print(\"=============================================================================\")\n",
        "print(f\"Quantidade total de homens: {male_results.sum()}\")\n",
        "print(f\"Porcentagem de homens que tiveram ataques cardíacos: {male_positive_percentage}% ({male_results.iloc[1].sum()} homens)\")\n",
        "print(f\"Quantidade de homens que não tiveram ataques cardíacos: {male_negative_percentage}% ({male_results.iloc[0].sum()} homens)\")\n",
        "print(\"=============================================================================\")\n",
        "# Printa a quantidade de mulheres, quantidade de ataques cardíacos positivos e negativos\n",
        "print(f\"Quantidade total de mulheres: {female_results.sum()}\")\n",
        "print(f\"Porcentagem de mulheres que tiveram ataques cardíacos: {female_positive_percentage}% ({female_results.iloc[1].sum()} mulheres)\")\n",
        "print(f\"Quantidade de mulheres que não tiveram ataques cardíacos: {female_negative_percentage}% ({female_results.iloc[0].sum()} mulheres)\")\n",
        "print(\"=============================================================================\")\n",
        "print(f\"Diferença de porcentagem entre testes positivos masculinos e femininos: {(male_positive_percentage - female_positive_percentage).round(2)}%\")\n",
        "print(\"=============================================================================\")"
      ],
      "metadata": {
        "colab": {
          "base_uri": "https://localhost:8080/"
        },
        "id": "AM9_KfFx1MEP",
        "outputId": "5017ae60-f9ab-439d-afe1-230accdd58f0"
      },
      "execution_count": 20,
      "outputs": [
        {
          "output_type": "stream",
          "name": "stdout",
          "text": [
            "=============================================================================\n",
            "Quantidade total de homens: 870\n",
            "Porcentagem de homens que tiveram ataques cardíacos: 64.71% (563 homens)\n",
            "Quantidade de homens que não tiveram ataques cardíacos: 35.29% (307 homens)\n",
            "=============================================================================\n",
            "Quantidade total de mulheres: 449\n",
            "Porcentagem de mulheres que tiveram ataques cardíacos: 55.01% (247 mulheres)\n",
            "Quantidade de mulheres que não tiveram ataques cardíacos: 44.99% (202 mulheres)\n",
            "=============================================================================\n",
            "Diferença de porcentagem entre testes positivos masculinos e femininos: 9.7%\n",
            "=============================================================================\n"
          ]
        }
      ]
    },
    {
      "cell_type": "code",
      "source": [
        "# Gráfico de sumário dos resultados Masculinos e Femininos\n",
        "# gender_summary ="
      ],
      "metadata": {
        "id": "p8kefE6K3ptd"
      },
      "execution_count": 21,
      "outputs": []
    },
    {
      "cell_type": "markdown",
      "source": [
        "# 1.2. O que é possível extrair desses resultados?"
      ],
      "metadata": {
        "id": "vQxlJ9kS05tt"
      }
    },
    {
      "cell_type": "markdown",
      "source": [
        "- A quantidade de homens e mulheres examinados não é igual, entretanto, podemos ver que há uma clara diferença na quantidade de homens que tiveram ataques cardíacos e na quantidade de mulheres que tiveram ataques cardíacos.\n",
        "- Por exemplo, a porcentagem de homens que tiveram ataque cardíacos é 64.71% contra 55.01% de ataques cardíacos femininos, uma diferença de 9.7%, se aproximando a 10%.\n",
        "- Isso significa que, de forma geral, os homens estão mais propícios a ter ataques cardíacos em comparação as mulheres, mesmo levando em conta a diferença na quantidade de homens e mulheres examinados.\n"
      ],
      "metadata": {
        "id": "aJXueRVP08KB"
      }
    },
    {
      "cell_type": "markdown",
      "source": [
        "# Seção 2: Distribuição de Ataques Cardíacos por Idade\n",
        "\n",
        "<h1>Será que a idade afeta?</h1>\n",
        "\n",
        "Para verificar essa hipótese, irei utilizar 3 grupos de idade:\n",
        "- Grupo 1: até os 45 anos;\n",
        "- Grupo 2: entre 46-59 anos;\n",
        "- Grupo 3: acima de 59 anos;\n",
        "\n",
        "PS: Originalmente, os grupos de idade eram até 25 anos, entre 25-59 anos, e acima de 59 anos. Entretanto, ao verificar os elementos da tabela para melhor apuração, pude notar que haviam pouquíssimos registros até a idade escolhida. Justamente para haver uma melhor comparação entre esses grupos de idade, ajustei adequadamente."
      ],
      "metadata": {
        "id": "bPYmNz_k7Jv0"
      }
    },
    {
      "cell_type": "code",
      "source": [
        "age_df = df[['Age', 'Result']]\n",
        "age_df"
      ],
      "metadata": {
        "colab": {
          "base_uri": "https://localhost:8080/",
          "height": 423
        },
        "id": "KxWA4g0kHqra",
        "outputId": "7e80f694-2f38-4e5a-867a-eb7d109c3569"
      },
      "execution_count": 22,
      "outputs": [
        {
          "output_type": "execute_result",
          "data": {
            "text/plain": [
              "      Age    Result\n",
              "0      64  negative\n",
              "1      21  positive\n",
              "2      55  negative\n",
              "3      64  positive\n",
              "4      55  negative\n",
              "...   ...       ...\n",
              "1314   44  negative\n",
              "1315   66  positive\n",
              "1316   45  positive\n",
              "1317   54  positive\n",
              "1318   51  positive\n",
              "\n",
              "[1319 rows x 2 columns]"
            ],
            "text/html": [
              "\n",
              "  <div id=\"df-3710cdb3-b38c-4fea-8e4c-a20e1fb078a6\" class=\"colab-df-container\">\n",
              "    <div>\n",
              "<style scoped>\n",
              "    .dataframe tbody tr th:only-of-type {\n",
              "        vertical-align: middle;\n",
              "    }\n",
              "\n",
              "    .dataframe tbody tr th {\n",
              "        vertical-align: top;\n",
              "    }\n",
              "\n",
              "    .dataframe thead th {\n",
              "        text-align: right;\n",
              "    }\n",
              "</style>\n",
              "<table border=\"1\" class=\"dataframe\">\n",
              "  <thead>\n",
              "    <tr style=\"text-align: right;\">\n",
              "      <th></th>\n",
              "      <th>Age</th>\n",
              "      <th>Result</th>\n",
              "    </tr>\n",
              "  </thead>\n",
              "  <tbody>\n",
              "    <tr>\n",
              "      <th>0</th>\n",
              "      <td>64</td>\n",
              "      <td>negative</td>\n",
              "    </tr>\n",
              "    <tr>\n",
              "      <th>1</th>\n",
              "      <td>21</td>\n",
              "      <td>positive</td>\n",
              "    </tr>\n",
              "    <tr>\n",
              "      <th>2</th>\n",
              "      <td>55</td>\n",
              "      <td>negative</td>\n",
              "    </tr>\n",
              "    <tr>\n",
              "      <th>3</th>\n",
              "      <td>64</td>\n",
              "      <td>positive</td>\n",
              "    </tr>\n",
              "    <tr>\n",
              "      <th>4</th>\n",
              "      <td>55</td>\n",
              "      <td>negative</td>\n",
              "    </tr>\n",
              "    <tr>\n",
              "      <th>...</th>\n",
              "      <td>...</td>\n",
              "      <td>...</td>\n",
              "    </tr>\n",
              "    <tr>\n",
              "      <th>1314</th>\n",
              "      <td>44</td>\n",
              "      <td>negative</td>\n",
              "    </tr>\n",
              "    <tr>\n",
              "      <th>1315</th>\n",
              "      <td>66</td>\n",
              "      <td>positive</td>\n",
              "    </tr>\n",
              "    <tr>\n",
              "      <th>1316</th>\n",
              "      <td>45</td>\n",
              "      <td>positive</td>\n",
              "    </tr>\n",
              "    <tr>\n",
              "      <th>1317</th>\n",
              "      <td>54</td>\n",
              "      <td>positive</td>\n",
              "    </tr>\n",
              "    <tr>\n",
              "      <th>1318</th>\n",
              "      <td>51</td>\n",
              "      <td>positive</td>\n",
              "    </tr>\n",
              "  </tbody>\n",
              "</table>\n",
              "<p>1319 rows × 2 columns</p>\n",
              "</div>\n",
              "    <div class=\"colab-df-buttons\">\n",
              "\n",
              "  <div class=\"colab-df-container\">\n",
              "    <button class=\"colab-df-convert\" onclick=\"convertToInteractive('df-3710cdb3-b38c-4fea-8e4c-a20e1fb078a6')\"\n",
              "            title=\"Convert this dataframe to an interactive table.\"\n",
              "            style=\"display:none;\">\n",
              "\n",
              "  <svg xmlns=\"http://www.w3.org/2000/svg\" height=\"24px\" viewBox=\"0 -960 960 960\">\n",
              "    <path d=\"M120-120v-720h720v720H120Zm60-500h600v-160H180v160Zm220 220h160v-160H400v160Zm0 220h160v-160H400v160ZM180-400h160v-160H180v160Zm440 0h160v-160H620v160ZM180-180h160v-160H180v160Zm440 0h160v-160H620v160Z\"/>\n",
              "  </svg>\n",
              "    </button>\n",
              "\n",
              "  <style>\n",
              "    .colab-df-container {\n",
              "      display:flex;\n",
              "      gap: 12px;\n",
              "    }\n",
              "\n",
              "    .colab-df-convert {\n",
              "      background-color: #E8F0FE;\n",
              "      border: none;\n",
              "      border-radius: 50%;\n",
              "      cursor: pointer;\n",
              "      display: none;\n",
              "      fill: #1967D2;\n",
              "      height: 32px;\n",
              "      padding: 0 0 0 0;\n",
              "      width: 32px;\n",
              "    }\n",
              "\n",
              "    .colab-df-convert:hover {\n",
              "      background-color: #E2EBFA;\n",
              "      box-shadow: 0px 1px 2px rgba(60, 64, 67, 0.3), 0px 1px 3px 1px rgba(60, 64, 67, 0.15);\n",
              "      fill: #174EA6;\n",
              "    }\n",
              "\n",
              "    .colab-df-buttons div {\n",
              "      margin-bottom: 4px;\n",
              "    }\n",
              "\n",
              "    [theme=dark] .colab-df-convert {\n",
              "      background-color: #3B4455;\n",
              "      fill: #D2E3FC;\n",
              "    }\n",
              "\n",
              "    [theme=dark] .colab-df-convert:hover {\n",
              "      background-color: #434B5C;\n",
              "      box-shadow: 0px 1px 3px 1px rgba(0, 0, 0, 0.15);\n",
              "      filter: drop-shadow(0px 1px 2px rgba(0, 0, 0, 0.3));\n",
              "      fill: #FFFFFF;\n",
              "    }\n",
              "  </style>\n",
              "\n",
              "    <script>\n",
              "      const buttonEl =\n",
              "        document.querySelector('#df-3710cdb3-b38c-4fea-8e4c-a20e1fb078a6 button.colab-df-convert');\n",
              "      buttonEl.style.display =\n",
              "        google.colab.kernel.accessAllowed ? 'block' : 'none';\n",
              "\n",
              "      async function convertToInteractive(key) {\n",
              "        const element = document.querySelector('#df-3710cdb3-b38c-4fea-8e4c-a20e1fb078a6');\n",
              "        const dataTable =\n",
              "          await google.colab.kernel.invokeFunction('convertToInteractive',\n",
              "                                                    [key], {});\n",
              "        if (!dataTable) return;\n",
              "\n",
              "        const docLinkHtml = 'Like what you see? Visit the ' +\n",
              "          '<a target=\"_blank\" href=https://colab.research.google.com/notebooks/data_table.ipynb>data table notebook</a>'\n",
              "          + ' to learn more about interactive tables.';\n",
              "        element.innerHTML = '';\n",
              "        dataTable['output_type'] = 'display_data';\n",
              "        await google.colab.output.renderOutput(dataTable, element);\n",
              "        const docLink = document.createElement('div');\n",
              "        docLink.innerHTML = docLinkHtml;\n",
              "        element.appendChild(docLink);\n",
              "      }\n",
              "    </script>\n",
              "  </div>\n",
              "\n",
              "\n",
              "    <div id=\"df-59d17107-df3b-4554-a59a-8b021b4879cf\">\n",
              "      <button class=\"colab-df-quickchart\" onclick=\"quickchart('df-59d17107-df3b-4554-a59a-8b021b4879cf')\"\n",
              "                title=\"Suggest charts\"\n",
              "                style=\"display:none;\">\n",
              "\n",
              "<svg xmlns=\"http://www.w3.org/2000/svg\" height=\"24px\"viewBox=\"0 0 24 24\"\n",
              "     width=\"24px\">\n",
              "    <g>\n",
              "        <path d=\"M19 3H5c-1.1 0-2 .9-2 2v14c0 1.1.9 2 2 2h14c1.1 0 2-.9 2-2V5c0-1.1-.9-2-2-2zM9 17H7v-7h2v7zm4 0h-2V7h2v10zm4 0h-2v-4h2v4z\"/>\n",
              "    </g>\n",
              "</svg>\n",
              "      </button>\n",
              "\n",
              "<style>\n",
              "  .colab-df-quickchart {\n",
              "      --bg-color: #E8F0FE;\n",
              "      --fill-color: #1967D2;\n",
              "      --hover-bg-color: #E2EBFA;\n",
              "      --hover-fill-color: #174EA6;\n",
              "      --disabled-fill-color: #AAA;\n",
              "      --disabled-bg-color: #DDD;\n",
              "  }\n",
              "\n",
              "  [theme=dark] .colab-df-quickchart {\n",
              "      --bg-color: #3B4455;\n",
              "      --fill-color: #D2E3FC;\n",
              "      --hover-bg-color: #434B5C;\n",
              "      --hover-fill-color: #FFFFFF;\n",
              "      --disabled-bg-color: #3B4455;\n",
              "      --disabled-fill-color: #666;\n",
              "  }\n",
              "\n",
              "  .colab-df-quickchart {\n",
              "    background-color: var(--bg-color);\n",
              "    border: none;\n",
              "    border-radius: 50%;\n",
              "    cursor: pointer;\n",
              "    display: none;\n",
              "    fill: var(--fill-color);\n",
              "    height: 32px;\n",
              "    padding: 0;\n",
              "    width: 32px;\n",
              "  }\n",
              "\n",
              "  .colab-df-quickchart:hover {\n",
              "    background-color: var(--hover-bg-color);\n",
              "    box-shadow: 0 1px 2px rgba(60, 64, 67, 0.3), 0 1px 3px 1px rgba(60, 64, 67, 0.15);\n",
              "    fill: var(--button-hover-fill-color);\n",
              "  }\n",
              "\n",
              "  .colab-df-quickchart-complete:disabled,\n",
              "  .colab-df-quickchart-complete:disabled:hover {\n",
              "    background-color: var(--disabled-bg-color);\n",
              "    fill: var(--disabled-fill-color);\n",
              "    box-shadow: none;\n",
              "  }\n",
              "\n",
              "  .colab-df-spinner {\n",
              "    border: 2px solid var(--fill-color);\n",
              "    border-color: transparent;\n",
              "    border-bottom-color: var(--fill-color);\n",
              "    animation:\n",
              "      spin 1s steps(1) infinite;\n",
              "  }\n",
              "\n",
              "  @keyframes spin {\n",
              "    0% {\n",
              "      border-color: transparent;\n",
              "      border-bottom-color: var(--fill-color);\n",
              "      border-left-color: var(--fill-color);\n",
              "    }\n",
              "    20% {\n",
              "      border-color: transparent;\n",
              "      border-left-color: var(--fill-color);\n",
              "      border-top-color: var(--fill-color);\n",
              "    }\n",
              "    30% {\n",
              "      border-color: transparent;\n",
              "      border-left-color: var(--fill-color);\n",
              "      border-top-color: var(--fill-color);\n",
              "      border-right-color: var(--fill-color);\n",
              "    }\n",
              "    40% {\n",
              "      border-color: transparent;\n",
              "      border-right-color: var(--fill-color);\n",
              "      border-top-color: var(--fill-color);\n",
              "    }\n",
              "    60% {\n",
              "      border-color: transparent;\n",
              "      border-right-color: var(--fill-color);\n",
              "    }\n",
              "    80% {\n",
              "      border-color: transparent;\n",
              "      border-right-color: var(--fill-color);\n",
              "      border-bottom-color: var(--fill-color);\n",
              "    }\n",
              "    90% {\n",
              "      border-color: transparent;\n",
              "      border-bottom-color: var(--fill-color);\n",
              "    }\n",
              "  }\n",
              "</style>\n",
              "\n",
              "      <script>\n",
              "        async function quickchart(key) {\n",
              "          const quickchartButtonEl =\n",
              "            document.querySelector('#' + key + ' button');\n",
              "          quickchartButtonEl.disabled = true;  // To prevent multiple clicks.\n",
              "          quickchartButtonEl.classList.add('colab-df-spinner');\n",
              "          try {\n",
              "            const charts = await google.colab.kernel.invokeFunction(\n",
              "                'suggestCharts', [key], {});\n",
              "          } catch (error) {\n",
              "            console.error('Error during call to suggestCharts:', error);\n",
              "          }\n",
              "          quickchartButtonEl.classList.remove('colab-df-spinner');\n",
              "          quickchartButtonEl.classList.add('colab-df-quickchart-complete');\n",
              "        }\n",
              "        (() => {\n",
              "          let quickchartButtonEl =\n",
              "            document.querySelector('#df-59d17107-df3b-4554-a59a-8b021b4879cf button');\n",
              "          quickchartButtonEl.style.display =\n",
              "            google.colab.kernel.accessAllowed ? 'block' : 'none';\n",
              "        })();\n",
              "      </script>\n",
              "    </div>\n",
              "\n",
              "  <div id=\"id_355f5bda-4628-43eb-929c-df430e57ae6d\">\n",
              "    <style>\n",
              "      .colab-df-generate {\n",
              "        background-color: #E8F0FE;\n",
              "        border: none;\n",
              "        border-radius: 50%;\n",
              "        cursor: pointer;\n",
              "        display: none;\n",
              "        fill: #1967D2;\n",
              "        height: 32px;\n",
              "        padding: 0 0 0 0;\n",
              "        width: 32px;\n",
              "      }\n",
              "\n",
              "      .colab-df-generate:hover {\n",
              "        background-color: #E2EBFA;\n",
              "        box-shadow: 0px 1px 2px rgba(60, 64, 67, 0.3), 0px 1px 3px 1px rgba(60, 64, 67, 0.15);\n",
              "        fill: #174EA6;\n",
              "      }\n",
              "\n",
              "      [theme=dark] .colab-df-generate {\n",
              "        background-color: #3B4455;\n",
              "        fill: #D2E3FC;\n",
              "      }\n",
              "\n",
              "      [theme=dark] .colab-df-generate:hover {\n",
              "        background-color: #434B5C;\n",
              "        box-shadow: 0px 1px 3px 1px rgba(0, 0, 0, 0.15);\n",
              "        filter: drop-shadow(0px 1px 2px rgba(0, 0, 0, 0.3));\n",
              "        fill: #FFFFFF;\n",
              "      }\n",
              "    </style>\n",
              "    <button class=\"colab-df-generate\" onclick=\"generateWithVariable('age_df')\"\n",
              "            title=\"Generate code using this dataframe.\"\n",
              "            style=\"display:none;\">\n",
              "\n",
              "  <svg xmlns=\"http://www.w3.org/2000/svg\" height=\"24px\"viewBox=\"0 0 24 24\"\n",
              "       width=\"24px\">\n",
              "    <path d=\"M7,19H8.4L18.45,9,17,7.55,7,17.6ZM5,21V16.75L18.45,3.32a2,2,0,0,1,2.83,0l1.4,1.43a1.91,1.91,0,0,1,.58,1.4,1.91,1.91,0,0,1-.58,1.4L9.25,21ZM18.45,9,17,7.55Zm-12,3A5.31,5.31,0,0,0,4.9,8.1,5.31,5.31,0,0,0,1,6.5,5.31,5.31,0,0,0,4.9,4.9,5.31,5.31,0,0,0,6.5,1,5.31,5.31,0,0,0,8.1,4.9,5.31,5.31,0,0,0,12,6.5,5.46,5.46,0,0,0,6.5,12Z\"/>\n",
              "  </svg>\n",
              "    </button>\n",
              "    <script>\n",
              "      (() => {\n",
              "      const buttonEl =\n",
              "        document.querySelector('#id_355f5bda-4628-43eb-929c-df430e57ae6d button.colab-df-generate');\n",
              "      buttonEl.style.display =\n",
              "        google.colab.kernel.accessAllowed ? 'block' : 'none';\n",
              "\n",
              "      buttonEl.onclick = () => {\n",
              "        google.colab.notebook.generateWithVariable('age_df');\n",
              "      }\n",
              "      })();\n",
              "    </script>\n",
              "  </div>\n",
              "\n",
              "    </div>\n",
              "  </div>\n"
            ],
            "application/vnd.google.colaboratory.intrinsic+json": {
              "type": "dataframe",
              "variable_name": "age_df",
              "summary": "{\n  \"name\": \"age_df\",\n  \"rows\": 1319,\n  \"fields\": [\n    {\n      \"column\": \"Age\",\n      \"properties\": {\n        \"dtype\": \"number\",\n        \"std\": 13,\n        \"min\": 14,\n        \"max\": 103,\n        \"num_unique_values\": 75,\n        \"samples\": [\n          32,\n          81,\n          61\n        ],\n        \"semantic_type\": \"\",\n        \"description\": \"\"\n      }\n    },\n    {\n      \"column\": \"Result\",\n      \"properties\": {\n        \"dtype\": \"category\",\n        \"num_unique_values\": 2,\n        \"samples\": [\n          \"positive\",\n          \"negative\"\n        ],\n        \"semantic_type\": \"\",\n        \"description\": \"\"\n      }\n    }\n  ]\n}"
            }
          },
          "metadata": {},
          "execution_count": 22
        }
      ]
    },
    {
      "cell_type": "code",
      "source": [
        "# Cria um novo dataframe contendo registros com idades abaixo de 45 anos\n",
        "max_45_df = age_df.query('Age <= 45')\n",
        "\n",
        "# Cria um novo dataframe com idade entre 46 e 59 anos\n",
        "max_59_df = age_df.query('Age > 45 & Age <= 59')\n",
        "\n",
        "# Cria um novo dataframe contendo apenas os registros com idade acima de 59 anos\n",
        "min_60_df = age_df.query('Age > 59')"
      ],
      "metadata": {
        "id": "KCwqAhcmJumq"
      },
      "execution_count": 23,
      "outputs": []
    },
    {
      "cell_type": "code",
      "source": [
        "print(f\"Quantidade de elementos do Dataframe até 45 anos de idade: {max_45_df.size}\")\n",
        "print(f\"Quantidade de elementos do Dataframe entre 46-59 anos de idade: {max_59_df.size}\")\n",
        "print(f\"Quantidade de elementos do Dataframe acima de 59 anos de idade: {min_60_df.size}\")"
      ],
      "metadata": {
        "colab": {
          "base_uri": "https://localhost:8080/"
        },
        "id": "Fqrug4x4KdY-",
        "outputId": "3c26f459-7d8b-411a-9818-63f233747ee4"
      },
      "execution_count": 24,
      "outputs": [
        {
          "output_type": "stream",
          "name": "stdout",
          "text": [
            "Quantidade de elementos do Dataframe até 45 anos de idade: 586\n",
            "Quantidade de elementos do Dataframe entre 46-59 anos de idade: 812\n",
            "Quantidade de elementos do Dataframe acima de 59 anos de idade: 1240\n"
          ]
        }
      ]
    },
    {
      "cell_type": "code",
      "source": [
        "# Armazena os resultados negativos e positivos\n",
        "max_45_results = max_45_df['Result'].value_counts().sort_index()\n",
        "\n",
        "# Cria o gráfico de distribuição por idade (até 45 anos)\n",
        "plt.figure(figsize= (10, 6))\n",
        "plt.title(\"Distribuição de Ataques Cardíacos por Idade (até 45 anos)\", fontsize=16)\n",
        "plt.ylabel(\"Valores\", fontsize=14)\n",
        "plt.xlabel(\"Ataques Cardíacos\", fontsize=14)\n",
        "plt.bar(label_resultados, max_45_results.values, color=cores)"
      ],
      "metadata": {
        "colab": {
          "base_uri": "https://localhost:8080/",
          "height": 592
        },
        "id": "yVkd2t4DMKko",
        "outputId": "7c008cb8-b854-4f56-d20b-70ed5a721513"
      },
      "execution_count": 25,
      "outputs": [
        {
          "output_type": "execute_result",
          "data": {
            "text/plain": [
              "<BarContainer object of 2 artists>"
            ]
          },
          "metadata": {},
          "execution_count": 25
        },
        {
          "output_type": "display_data",
          "data": {
            "text/plain": [
              "<Figure size 1000x600 with 1 Axes>"
            ],
            "image/png": "[encoded data removed]"
          },
          "metadata": {}
        }
      ]
    },
    {
      "cell_type": "code",
      "source": [
        "# Armazena os resultados negativos e positivos\n",
        "max_59_results = max_59_df['Result'].value_counts().sort_index()\n",
        "\n",
        "# Cria o gráfico de distribuição por idade (até 59 anos)\n",
        "plt.figure(figsize= (10, 6))\n",
        "plt.title(\"Distribuição de Ataques Cardíacos por Idade (entre 46 e 59 anos)\", fontsize=16)\n",
        "plt.ylabel(\"Valores\", fontsize=14)\n",
        "plt.xlabel(\"Ataques Cardíacos\", fontsize=14)\n",
        "plt.bar(label_resultados, max_59_results.values, color=cores)"
      ],
      "metadata": {
        "colab": {
          "base_uri": "https://localhost:8080/",
          "height": 591
        },
        "id": "knJbkPlKO7hT",
        "outputId": "86e07f5c-e17d-4383-e0b6-1e50ef24a836"
      },
      "execution_count": 26,
      "outputs": [
        {
          "output_type": "execute_result",
          "data": {
            "text/plain": [
              "<BarContainer object of 2 artists>"
            ]
          },
          "metadata": {},
          "execution_count": 26
        },
        {
          "output_type": "display_data",
          "data": {
            "text/plain": [
              "<Figure size 1000x600 with 1 Axes>"
            ],
            "image/png": "[encoded data removed]"
          },
          "metadata": {}
        }
      ]
    },
    {
      "cell_type": "code",
      "source": [
        "# Armazena os resultados negativos e positivos\n",
        "min_60_results = min_60_df['Result'].value_counts().sort_index()\n",
        "\n",
        "# Cria o gráfico de distribuição por idade (acima de 59 anos)\n",
        "plt.figure(figsize= (10, 6))\n",
        "plt.title(\"Distribuição de Ataques Cardíacos por Idade (acima de 59 anos)\", fontsize=16)\n",
        "plt.ylabel(\"Valores\", fontsize=14)\n",
        "plt.xlabel(\"Ataques Cardíacos\", fontsize=14)\n",
        "plt.bar(label_resultados, min_60_results.values, color=cores)"
      ],
      "metadata": {
        "colab": {
          "base_uri": "https://localhost:8080/",
          "height": 591
        },
        "id": "2AKuB48_PPYr",
        "outputId": "e5b4e064-36ff-4a91-fae5-9d49c8d13e78"
      },
      "execution_count": 27,
      "outputs": [
        {
          "output_type": "execute_result",
          "data": {
            "text/plain": [
              "<BarContainer object of 2 artists>"
            ]
          },
          "metadata": {},
          "execution_count": 27
        },
        {
          "output_type": "display_data",
          "data": {
            "text/plain": [
              "<Figure size 1000x600 with 1 Axes>"
            ],
            "image/png": "[encoded data removed]"
          },
          "metadata": {}
        }
      ]
    },
    {
      "cell_type": "markdown",
      "source": [
        "# 2.1. Sumário dos resultados por Grupo de Idade\n",
        "\n",
        "<h4>Lembrando quais são os grupos:</h4>\n",
        "\n",
        "- Grupo 1: até os 45 anos;\n",
        "- Grupo 2: entre 46-59 anos;\n",
        "- Grupo 3: acima de 59 anos;"
      ],
      "metadata": {
        "id": "dIzh_49FRJdY"
      }
    },
    {
      "cell_type": "code",
      "source": [
        "# Nota: índice 0 -> negativo ||| índice 1 -> positivo\n",
        "# Porcentagem do Grupo 1 (até 45 anos):\n",
        "grp1_negative = (max_45_results.iloc[0] / max_45_results.sum() * 100).round(2)\n",
        "grp1_positive = (max_45_results.iloc[1] / max_45_results.sum() * 100).round(2)\n",
        "\n",
        "# Porcentagem do Grupo 2 (46-59 anos):\n",
        "grp2_negative = (max_59_results.iloc[0] / max_59_results.sum() * 100).round(2)\n",
        "grp2_positive = (max_59_results.iloc[1] / max_59_results.sum() * 100).round(2)\n",
        "\n",
        "# Porcentagem do Grupo 3 (acima de 59 anos):\n",
        "grp3_negative = (min_60_results.iloc[0] / min_60_results.sum() * 100).round(2)\n",
        "grp3_positive = (min_60_results.iloc[1] / min_60_results.sum() * 100).round(2)"
      ],
      "metadata": {
        "id": "3lhxLfHvQiKT"
      },
      "execution_count": 28,
      "outputs": []
    },
    {
      "cell_type": "code",
      "source": [
        "# Printa os resultados positivos e negativos do Grupo 1 em porcentagem\n",
        "print(\"===============================================================================\")\n",
        "print(f\"Quantidade total do Grupo 1: {max_45_results.sum()}\")\n",
        "print(f\"Porcentagem do Grupo 1 que tiveram ataque cardíaco: {grp1_positive}% ({max_45_results.iloc[1].sum()} pessoas)\")\n",
        "print(f\"Porcentagem do Grupo 1 que não tiveram ataques cardíacos: {grp1_negative}% ({max_45_results.iloc[0].sum()} pessoas)\")\n",
        "print(\"===============================================================================\")\n",
        "\n",
        "# Printa os resultados positivos e negativos do Grupo 2 em porcentagem\n",
        "print(f\"Quantidade total do Grupo 2: {max_59_results.sum()}\")\n",
        "print(f\"Porcentagem do Grupo 2 que tiveram ataques cardíacos: {grp2_positive}% ({max_59_results.iloc[1].sum()} pessoas)\")\n",
        "print(f\"Porcentagem do Grupo 2 que não tiveram ataques cardíacos: {grp2_negative}% ({max_59_results.iloc[0].sum()} pessoas)\")\n",
        "print(\"===============================================================================\")\n",
        "\n",
        "# Printa os resultados positivos e negativos do Grupo 3 em porcentagem\n",
        "print(f\"Quantidade total do Grupo 3: {min_60_results.sum()}\")\n",
        "print(f\"Porcentagem do Grupo 3 que tiveram ataques cardíacos: {grp3_positive}% ({min_60_results.iloc[1].sum()} pessoas)\")\n",
        "print(f\"Porcentagem do Grupo 3 que não tiveram ataques cardíacos: {grp3_negative}% ({min_60_results.iloc[0].sum()} pessoas)\")\n",
        "print(\"===============================================================================\")\n",
        "print(f\"Total de pessoas avaliadas: {max_45_results.sum() + max_59_results.sum() + min_60_results.sum()}\")"
      ],
      "metadata": {
        "colab": {
          "base_uri": "https://localhost:8080/"
        },
        "id": "-ZofRNy5Uxcq",
        "outputId": "989157bd-5c2a-4be3-bb3e-069a2cc0e4d6"
      },
      "execution_count": 29,
      "outputs": [
        {
          "output_type": "stream",
          "name": "stdout",
          "text": [
            "===============================================================================\n",
            "Quantidade total do Grupo 1: 293\n",
            "Porcentagem do Grupo 1 que tiveram ataque cardíaco: 39.59% (116 pessoas)\n",
            "Porcentagem do Grupo 1 que não tiveram ataques cardíacos: 60.41% (177 pessoas)\n",
            "===============================================================================\n",
            "Quantidade total do Grupo 2: 406\n",
            "Porcentagem do Grupo 2 que tiveram ataques cardíacos: 63.3% (257 pessoas)\n",
            "Porcentagem do Grupo 2 que não tiveram ataques cardíacos: 36.7% (149 pessoas)\n",
            "===============================================================================\n",
            "Quantidade total do Grupo 3: 620\n",
            "Porcentagem do Grupo 3 que tiveram ataques cardíacos: 70.48% (437 pessoas)\n",
            "Porcentagem do Grupo 3 que não tiveram ataques cardíacos: 29.52% (183 pessoas)\n",
            "===============================================================================\n",
            "Total de pessoas avaliadas: 1319\n"
          ]
        }
      ]
    },
    {
      "cell_type": "code",
      "source": [
        "# Grupo 1: <= 45 anos ||| Grupo 2: > 46 anos <= 59 anos ||| Grupo 3: > 60 anos\n",
        "# Criando o DataFrame que contém os resultados positivos dos três grupos\n",
        "summary_age_df = pd.DataFrame({'Grupo 1 (Positivo)': [float(grp1_positive)], 'Grupo 2 (Positivo)': [float(grp2_positive)], 'Grupo 3 (Positivo)': [float(grp3_positive)]}, index=['%'])\n",
        "\n",
        "# Setando os labels do gráfico e as cores do gráfico\n",
        "summary_age_label = ['Grupo 1', 'Grupo 2', 'Grupo 3']\n",
        "summary_age_colors = ['#90EE90', '#FFD700', '#e74c3c']\n",
        "\n",
        "summary_age_df"
      ],
      "metadata": {
        "colab": {
          "base_uri": "https://localhost:8080/",
          "height": 89
        },
        "id": "gLNeU-vn4Pum",
        "outputId": "40439b75-d715-47ad-df12-f2df4701fc6a"
      },
      "execution_count": 30,
      "outputs": [
        {
          "output_type": "execute_result",
          "data": {
            "text/plain": [
              "   Grupo 1 (Positivo)  Grupo 2 (Positivo)  Grupo 3 (Positivo)\n",
              "%               39.59                63.3               70.48"
            ],
            "text/html": [
              "\n",
              "  <div id=\"df-42473396-f8cf-4563-a2da-ba653ecb1ba7\" class=\"colab-df-container\">\n",
              "    <div>\n",
              "<style scoped>\n",
              "    .dataframe tbody tr th:only-of-type {\n",
              "        vertical-align: middle;\n",
              "    }\n",
              "\n",
              "    .dataframe tbody tr th {\n",
              "        vertical-align: top;\n",
              "    }\n",
              "\n",
              "    .dataframe thead th {\n",
              "        text-align: right;\n",
              "    }\n",
              "</style>\n",
              "<table border=\"1\" class=\"dataframe\">\n",
              "  <thead>\n",
              "    <tr style=\"text-align: right;\">\n",
              "      <th></th>\n",
              "      <th>Grupo 1 (Positivo)</th>\n",
              "      <th>Grupo 2 (Positivo)</th>\n",
              "      <th>Grupo 3 (Positivo)</th>\n",
              "    </tr>\n",
              "  </thead>\n",
              "  <tbody>\n",
              "    <tr>\n",
              "      <th>%</th>\n",
              "      <td>39.59</td>\n",
              "      <td>63.3</td>\n",
              "      <td>70.48</td>\n",
              "    </tr>\n",
              "  </tbody>\n",
              "</table>\n",
              "</div>\n",
              "    <div class=\"colab-df-buttons\">\n",
              "\n",
              "  <div class=\"colab-df-container\">\n",
              "    <button class=\"colab-df-convert\" onclick=\"convertToInteractive('df-42473396-f8cf-4563-a2da-ba653ecb1ba7')\"\n",
              "            title=\"Convert this dataframe to an interactive table.\"\n",
              "            style=\"display:none;\">\n",
              "\n",
              "  <svg xmlns=\"http://www.w3.org/2000/svg\" height=\"24px\" viewBox=\"0 -960 960 960\">\n",
              "    <path d=\"M120-120v-720h720v720H120Zm60-500h600v-160H180v160Zm220 220h160v-160H400v160Zm0 220h160v-160H400v160ZM180-400h160v-160H180v160Zm440 0h160v-160H620v160ZM180-180h160v-160H180v160Zm440 0h160v-160H620v160Z\"/>\n",
              "  </svg>\n",
              "    </button>\n",
              "\n",
              "  <style>\n",
              "    .colab-df-container {\n",
              "      display:flex;\n",
              "      gap: 12px;\n",
              "    }\n",
              "\n",
              "    .colab-df-convert {\n",
              "      background-color: #E8F0FE;\n",
              "      border: none;\n",
              "      border-radius: 50%;\n",
              "      cursor: pointer;\n",
              "      display: none;\n",
              "      fill: #1967D2;\n",
              "      height: 32px;\n",
              "      padding: 0 0 0 0;\n",
              "      width: 32px;\n",
              "    }\n",
              "\n",
              "    .colab-df-convert:hover {\n",
              "      background-color: #E2EBFA;\n",
              "      box-shadow: 0px 1px 2px rgba(60, 64, 67, 0.3), 0px 1px 3px 1px rgba(60, 64, 67, 0.15);\n",
              "      fill: #174EA6;\n",
              "    }\n",
              "\n",
              "    .colab-df-buttons div {\n",
              "      margin-bottom: 4px;\n",
              "    }\n",
              "\n",
              "    [theme=dark] .colab-df-convert {\n",
              "      background-color: #3B4455;\n",
              "      fill: #D2E3FC;\n",
              "    }\n",
              "\n",
              "    [theme=dark] .colab-df-convert:hover {\n",
              "      background-color: #434B5C;\n",
              "      box-shadow: 0px 1px 3px 1px rgba(0, 0, 0, 0.15);\n",
              "      filter: drop-shadow(0px 1px 2px rgba(0, 0, 0, 0.3));\n",
              "      fill: #FFFFFF;\n",
              "    }\n",
              "  </style>\n",
              "\n",
              "    <script>\n",
              "      const buttonEl =\n",
              "        document.querySelector('#df-42473396-f8cf-4563-a2da-ba653ecb1ba7 button.colab-df-convert');\n",
              "      buttonEl.style.display =\n",
              "        google.colab.kernel.accessAllowed ? 'block' : 'none';\n",
              "\n",
              "      async function convertToInteractive(key) {\n",
              "        const element = document.querySelector('#df-42473396-f8cf-4563-a2da-ba653ecb1ba7');\n",
              "        const dataTable =\n",
              "          await google.colab.kernel.invokeFunction('convertToInteractive',\n",
              "                                                    [key], {});\n",
              "        if (!dataTable) return;\n",
              "\n",
              "        const docLinkHtml = 'Like what you see? Visit the ' +\n",
              "          '<a target=\"_blank\" href=https://colab.research.google.com/notebooks/data_table.ipynb>data table notebook</a>'\n",
              "          + ' to learn more about interactive tables.';\n",
              "        element.innerHTML = '';\n",
              "        dataTable['output_type'] = 'display_data';\n",
              "        await google.colab.output.renderOutput(dataTable, element);\n",
              "        const docLink = document.createElement('div');\n",
              "        docLink.innerHTML = docLinkHtml;\n",
              "        element.appendChild(docLink);\n",
              "      }\n",
              "    </script>\n",
              "  </div>\n",
              "\n",
              "\n",
              "  <div id=\"id_7af9a0b8-9a0c-4977-8281-4d3ad245836a\">\n",
              "    <style>\n",
              "      .colab-df-generate {\n",
              "        background-color: #E8F0FE;\n",
              "        border: none;\n",
              "        border-radius: 50%;\n",
              "        cursor: pointer;\n",
              "        display: none;\n",
              "        fill: #1967D2;\n",
              "        height: 32px;\n",
              "        padding: 0 0 0 0;\n",
              "        width: 32px;\n",
              "      }\n",
              "\n",
              "      .colab-df-generate:hover {\n",
              "        background-color: #E2EBFA;\n",
              "        box-shadow: 0px 1px 2px rgba(60, 64, 67, 0.3), 0px 1px 3px 1px rgba(60, 64, 67, 0.15);\n",
              "        fill: #174EA6;\n",
              "      }\n",
              "\n",
              "      [theme=dark] .colab-df-generate {\n",
              "        background-color: #3B4455;\n",
              "        fill: #D2E3FC;\n",
              "      }\n",
              "\n",
              "      [theme=dark] .colab-df-generate:hover {\n",
              "        background-color: #434B5C;\n",
              "        box-shadow: 0px 1px 3px 1px rgba(0, 0, 0, 0.15);\n",
              "        filter: drop-shadow(0px 1px 2px rgba(0, 0, 0, 0.3));\n",
              "        fill: #FFFFFF;\n",
              "      }\n",
              "    </style>\n",
              "    <button class=\"colab-df-generate\" onclick=\"generateWithVariable('summary_age_df')\"\n",
              "            title=\"Generate code using this dataframe.\"\n",
              "            style=\"display:none;\">\n",
              "\n",
              "  <svg xmlns=\"http://www.w3.org/2000/svg\" height=\"24px\"viewBox=\"0 0 24 24\"\n",
              "       width=\"24px\">\n",
              "    <path d=\"M7,19H8.4L18.45,9,17,7.55,7,17.6ZM5,21V16.75L18.45,3.32a2,2,0,0,1,2.83,0l1.4,1.43a1.91,1.91,0,0,1,.58,1.4,1.91,1.91,0,0,1-.58,1.4L9.25,21ZM18.45,9,17,7.55Zm-12,3A5.31,5.31,0,0,0,4.9,8.1,5.31,5.31,0,0,0,1,6.5,5.31,5.31,0,0,0,4.9,4.9,5.31,5.31,0,0,0,6.5,1,5.31,5.31,0,0,0,8.1,4.9,5.31,5.31,0,0,0,12,6.5,5.46,5.46,0,0,0,6.5,12Z\"/>\n",
              "  </svg>\n",
              "    </button>\n",
              "    <script>\n",
              "      (() => {\n",
              "      const buttonEl =\n",
              "        document.querySelector('#id_7af9a0b8-9a0c-4977-8281-4d3ad245836a button.colab-df-generate');\n",
              "      buttonEl.style.display =\n",
              "        google.colab.kernel.accessAllowed ? 'block' : 'none';\n",
              "\n",
              "      buttonEl.onclick = () => {\n",
              "        google.colab.notebook.generateWithVariable('summary_age_df');\n",
              "      }\n",
              "      })();\n",
              "    </script>\n",
              "  </div>\n",
              "\n",
              "    </div>\n",
              "  </div>\n"
            ],
            "application/vnd.google.colaboratory.intrinsic+json": {
              "type": "dataframe",
              "variable_name": "summary_age_df",
              "summary": "{\n  \"name\": \"summary_age_df\",\n  \"rows\": 1,\n  \"fields\": [\n    {\n      \"column\": \"Grupo 1 (Positivo)\",\n      \"properties\": {\n        \"dtype\": \"number\",\n        \"std\": null,\n        \"min\": 39.59,\n        \"max\": 39.59,\n        \"num_unique_values\": 1,\n        \"samples\": [\n          39.59\n        ],\n        \"semantic_type\": \"\",\n        \"description\": \"\"\n      }\n    },\n    {\n      \"column\": \"Grupo 2 (Positivo)\",\n      \"properties\": {\n        \"dtype\": \"number\",\n        \"std\": null,\n        \"min\": 63.3,\n        \"max\": 63.3,\n        \"num_unique_values\": 1,\n        \"samples\": [\n          63.3\n        ],\n        \"semantic_type\": \"\",\n        \"description\": \"\"\n      }\n    },\n    {\n      \"column\": \"Grupo 3 (Positivo)\",\n      \"properties\": {\n        \"dtype\": \"number\",\n        \"std\": null,\n        \"min\": 70.48,\n        \"max\": 70.48,\n        \"num_unique_values\": 1,\n        \"samples\": [\n          70.48\n        ],\n        \"semantic_type\": \"\",\n        \"description\": \"\"\n      }\n    }\n  ]\n}"
            }
          },
          "metadata": {},
          "execution_count": 30
        }
      ]
    },
    {
      "cell_type": "code",
      "source": [
        "# Criando o gráfico de sumário de ataques cardíacos ocorridos por grupo de idade\n",
        "plt.figure(figsize=(10, 6))\n",
        "plt.title(\"Sumário de Ataques Cardíacos ocorridos por Grupo de Idade\", fontsize=16)\n",
        "plt.xlabel(\"Ataques Cardíacos (por grupo de idade)\", fontsize=14)\n",
        "plt.ylabel(\"Porcentagem\", fontsize=14)\n",
        "plt.bar(summary_age_label, summary_age_df.values[0], color=summary_age_colors)\n"
      ],
      "metadata": {
        "colab": {
          "base_uri": "https://localhost:8080/",
          "height": 591
        },
        "id": "IQBYt_h04QAP",
        "outputId": "f18f7e9f-e67c-44f8-d417-7462b8c81d54"
      },
      "execution_count": 31,
      "outputs": [
        {
          "output_type": "execute_result",
          "data": {
            "text/plain": [
              "<BarContainer object of 3 artists>"
            ]
          },
          "metadata": {},
          "execution_count": 31
        },
        {
          "output_type": "display_data",
          "data": {
            "text/plain": [
              "<Figure size 1000x600 with 1 Axes>"
            ],
            "image/png": "[encoded data removed]"
          },
          "metadata": {}
        }
      ]
    },
    {
      "cell_type": "markdown",
      "source": [
        "# 2.2. O que podemos extrair desses resultados?\n",
        "\n",
        "Três grupos diferentes de idade foram comparados, sendo eles: grupo 1 (até 45 anos de idade), grupo 2 (46-59 anos de idade), grupo 3 (acima de 59 anos de idade). <br>\n",
        "- Um total de 1319 pessoas foram avaliadas, sendo  293 do primeiro grupo, 406 do segundo grupo e 620 do terceiro.\n",
        "- No primeiro grupo, isto é, até os 45 anos de idade, 39.59% dos pacientes tiveram ataque cardíaco.\n",
        "- No segundo grupo, isto é, dos 46 anos de idade até os 59 anos de idade, 63.3% dos pacientes tiveram ataque cardíaco.\n",
        "- No terceiro grupo, isto é, acima dos 59 anos, 70.48% dos pacientes tiveram ataque cardíaco.\n",
        "\n",
        "<br>\n",
        "<h5>Com essas informações, podemos classificar os três grupos com diferentes prioridades. <br>\n",
        "É perceptível que conforme o indivíduo vai ficando mais velho, maior a possibilidade de ter um ataque cardíaco, assim como vemos pelas estatísticas apresentadas.\n",
        "Com isso, a sugestão seria definir o Grupo 1 como prioridade baixa, o Grupo 2 como prioridade média e o Grupo 3 como prioridade alta.\n",
        "</h5>"
      ],
      "metadata": {
        "id": "bS-myhVjCXr2"
      }
    },
    {
      "cell_type": "markdown",
      "source": [
        "# Predição com Regressão Linear Múltipla:\n",
        "\n",
        "<h1>Esta seção ainda não foi iniciada. <br>\n",
        "Quando será iniciada: ao concluir a seção de EDA.</h1>\n",
        "\n",
        "<h1>Fórmulas a serem utilizadas:</h1>\n",
        "$$\n",
        "y = \\beta_0 + \\beta_1 x_1 + \\beta_2 x_2 + \\dots + \\beta_p x_p + \\varepsilon\n",
        "$$\n",
        "\n",
        "- $(y)$ variável dependente  \n",
        "- $(x_j)$ variáveis independentes  \n",
        "- $(\\beta_j)$ coeficientes a serem estimados  \n",
        "- $(\\varepsilon)$ termo de erro"
      ],
      "metadata": {
        "id": "ia-PJriEp_eP"
      }
    }
  ]
}